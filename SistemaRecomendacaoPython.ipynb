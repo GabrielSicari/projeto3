{
 "cells": [
  {
   "cell_type": "code",
   "execution_count": 1,
   "id": "947d048f",
   "metadata": {},
   "outputs": [],
   "source": [
    "import pandas as pd\n",
    "import numpy as np\n",
    "import seaborn as sns\n",
    "import warnings\n",
    "\n",
    "warnings.filterwarnings('ignore')\n",
    "\n",
    "from scipy.sparse import csr_matrix\n",
    "\n",
    "from sklearn.neighbors import NearestNeighbors "
   ]
  },
  {
   "cell_type": "code",
   "execution_count": 2,
   "id": "b9a2a005",
   "metadata": {},
   "outputs": [],
   "source": [
    "# Importar o arquivo com os filmes\n",
    "filmes = pd.read_csv('C:/Users/sicar/Documents/dados/movies_metadata.csv', low_memory = False)\n",
    "\n",
    "# Importando o arquivo de avaliações\n",
    "avaliacoes = pd.read_csv('C:/Users/sicar/Documents/dados/ratings.csv')\n"
   ]
  },
  {
   "cell_type": "code",
   "execution_count": 3,
   "id": "7f9ef8f9",
   "metadata": {},
   "outputs": [
    {
     "data": {
      "text/html": [
       "<div>\n",
       "<style scoped>\n",
       "    .dataframe tbody tr th:only-of-type {\n",
       "        vertical-align: middle;\n",
       "    }\n",
       "\n",
       "    .dataframe tbody tr th {\n",
       "        vertical-align: top;\n",
       "    }\n",
       "\n",
       "    .dataframe thead th {\n",
       "        text-align: right;\n",
       "    }\n",
       "</style>\n",
       "<table border=\"1\" class=\"dataframe\">\n",
       "  <thead>\n",
       "    <tr style=\"text-align: right;\">\n",
       "      <th></th>\n",
       "      <th>adult</th>\n",
       "      <th>belongs_to_collection</th>\n",
       "      <th>budget</th>\n",
       "      <th>genres</th>\n",
       "      <th>homepage</th>\n",
       "      <th>id</th>\n",
       "      <th>imdb_id</th>\n",
       "      <th>original_language</th>\n",
       "      <th>original_title</th>\n",
       "      <th>overview</th>\n",
       "      <th>...</th>\n",
       "      <th>release_date</th>\n",
       "      <th>revenue</th>\n",
       "      <th>runtime</th>\n",
       "      <th>spoken_languages</th>\n",
       "      <th>status</th>\n",
       "      <th>tagline</th>\n",
       "      <th>title</th>\n",
       "      <th>video</th>\n",
       "      <th>vote_average</th>\n",
       "      <th>vote_count</th>\n",
       "    </tr>\n",
       "  </thead>\n",
       "  <tbody>\n",
       "    <tr>\n",
       "      <th>0</th>\n",
       "      <td>False</td>\n",
       "      <td>{'id': 10194, 'name': 'Toy Story Collection', ...</td>\n",
       "      <td>30000000</td>\n",
       "      <td>[{'id': 16, 'name': 'Animation'}, {'id': 35, '...</td>\n",
       "      <td>http://toystory.disney.com/toy-story</td>\n",
       "      <td>862</td>\n",
       "      <td>tt0114709</td>\n",
       "      <td>en</td>\n",
       "      <td>Toy Story</td>\n",
       "      <td>Led by Woody, Andy's toys live happily in his ...</td>\n",
       "      <td>...</td>\n",
       "      <td>1995-10-30</td>\n",
       "      <td>373554033.0</td>\n",
       "      <td>81.0</td>\n",
       "      <td>[{'iso_639_1': 'en', 'name': 'English'}]</td>\n",
       "      <td>Released</td>\n",
       "      <td>NaN</td>\n",
       "      <td>Toy Story</td>\n",
       "      <td>False</td>\n",
       "      <td>7.7</td>\n",
       "      <td>5415.0</td>\n",
       "    </tr>\n",
       "    <tr>\n",
       "      <th>1</th>\n",
       "      <td>False</td>\n",
       "      <td>NaN</td>\n",
       "      <td>65000000</td>\n",
       "      <td>[{'id': 12, 'name': 'Adventure'}, {'id': 14, '...</td>\n",
       "      <td>NaN</td>\n",
       "      <td>8844</td>\n",
       "      <td>tt0113497</td>\n",
       "      <td>en</td>\n",
       "      <td>Jumanji</td>\n",
       "      <td>When siblings Judy and Peter discover an encha...</td>\n",
       "      <td>...</td>\n",
       "      <td>1995-12-15</td>\n",
       "      <td>262797249.0</td>\n",
       "      <td>104.0</td>\n",
       "      <td>[{'iso_639_1': 'en', 'name': 'English'}, {'iso...</td>\n",
       "      <td>Released</td>\n",
       "      <td>Roll the dice and unleash the excitement!</td>\n",
       "      <td>Jumanji</td>\n",
       "      <td>False</td>\n",
       "      <td>6.9</td>\n",
       "      <td>2413.0</td>\n",
       "    </tr>\n",
       "    <tr>\n",
       "      <th>2</th>\n",
       "      <td>False</td>\n",
       "      <td>{'id': 119050, 'name': 'Grumpy Old Men Collect...</td>\n",
       "      <td>0</td>\n",
       "      <td>[{'id': 10749, 'name': 'Romance'}, {'id': 35, ...</td>\n",
       "      <td>NaN</td>\n",
       "      <td>15602</td>\n",
       "      <td>tt0113228</td>\n",
       "      <td>en</td>\n",
       "      <td>Grumpier Old Men</td>\n",
       "      <td>A family wedding reignites the ancient feud be...</td>\n",
       "      <td>...</td>\n",
       "      <td>1995-12-22</td>\n",
       "      <td>0.0</td>\n",
       "      <td>101.0</td>\n",
       "      <td>[{'iso_639_1': 'en', 'name': 'English'}]</td>\n",
       "      <td>Released</td>\n",
       "      <td>Still Yelling. Still Fighting. Still Ready for...</td>\n",
       "      <td>Grumpier Old Men</td>\n",
       "      <td>False</td>\n",
       "      <td>6.5</td>\n",
       "      <td>92.0</td>\n",
       "    </tr>\n",
       "  </tbody>\n",
       "</table>\n",
       "<p>3 rows × 24 columns</p>\n",
       "</div>"
      ],
      "text/plain": [
       "   adult                              belongs_to_collection    budget  \\\n",
       "0  False  {'id': 10194, 'name': 'Toy Story Collection', ...  30000000   \n",
       "1  False                                                NaN  65000000   \n",
       "2  False  {'id': 119050, 'name': 'Grumpy Old Men Collect...         0   \n",
       "\n",
       "                                              genres  \\\n",
       "0  [{'id': 16, 'name': 'Animation'}, {'id': 35, '...   \n",
       "1  [{'id': 12, 'name': 'Adventure'}, {'id': 14, '...   \n",
       "2  [{'id': 10749, 'name': 'Romance'}, {'id': 35, ...   \n",
       "\n",
       "                               homepage     id    imdb_id original_language  \\\n",
       "0  http://toystory.disney.com/toy-story    862  tt0114709                en   \n",
       "1                                   NaN   8844  tt0113497                en   \n",
       "2                                   NaN  15602  tt0113228                en   \n",
       "\n",
       "     original_title                                           overview  ...  \\\n",
       "0         Toy Story  Led by Woody, Andy's toys live happily in his ...  ...   \n",
       "1           Jumanji  When siblings Judy and Peter discover an encha...  ...   \n",
       "2  Grumpier Old Men  A family wedding reignites the ancient feud be...  ...   \n",
       "\n",
       "  release_date      revenue runtime  \\\n",
       "0   1995-10-30  373554033.0    81.0   \n",
       "1   1995-12-15  262797249.0   104.0   \n",
       "2   1995-12-22          0.0   101.0   \n",
       "\n",
       "                                    spoken_languages    status  \\\n",
       "0           [{'iso_639_1': 'en', 'name': 'English'}]  Released   \n",
       "1  [{'iso_639_1': 'en', 'name': 'English'}, {'iso...  Released   \n",
       "2           [{'iso_639_1': 'en', 'name': 'English'}]  Released   \n",
       "\n",
       "                                             tagline             title  video  \\\n",
       "0                                                NaN         Toy Story  False   \n",
       "1          Roll the dice and unleash the excitement!           Jumanji  False   \n",
       "2  Still Yelling. Still Fighting. Still Ready for...  Grumpier Old Men  False   \n",
       "\n",
       "  vote_average vote_count  \n",
       "0          7.7     5415.0  \n",
       "1          6.9     2413.0  \n",
       "2          6.5       92.0  \n",
       "\n",
       "[3 rows x 24 columns]"
      ]
     },
     "execution_count": 3,
     "metadata": {},
     "output_type": "execute_result"
    }
   ],
   "source": [
    "filmes.head(3)"
   ]
  },
  {
   "cell_type": "code",
   "execution_count": 4,
   "id": "a529d3ff",
   "metadata": {},
   "outputs": [
    {
     "data": {
      "text/html": [
       "<div>\n",
       "<style scoped>\n",
       "    .dataframe tbody tr th:only-of-type {\n",
       "        vertical-align: middle;\n",
       "    }\n",
       "\n",
       "    .dataframe tbody tr th {\n",
       "        vertical-align: top;\n",
       "    }\n",
       "\n",
       "    .dataframe thead th {\n",
       "        text-align: right;\n",
       "    }\n",
       "</style>\n",
       "<table border=\"1\" class=\"dataframe\">\n",
       "  <thead>\n",
       "    <tr style=\"text-align: right;\">\n",
       "      <th></th>\n",
       "      <th>userId</th>\n",
       "      <th>movieId</th>\n",
       "      <th>rating</th>\n",
       "      <th>timestamp</th>\n",
       "    </tr>\n",
       "  </thead>\n",
       "  <tbody>\n",
       "    <tr>\n",
       "      <th>0</th>\n",
       "      <td>1</td>\n",
       "      <td>110</td>\n",
       "      <td>1.0</td>\n",
       "      <td>1425941529</td>\n",
       "    </tr>\n",
       "    <tr>\n",
       "      <th>1</th>\n",
       "      <td>1</td>\n",
       "      <td>147</td>\n",
       "      <td>4.5</td>\n",
       "      <td>1425942435</td>\n",
       "    </tr>\n",
       "    <tr>\n",
       "      <th>2</th>\n",
       "      <td>1</td>\n",
       "      <td>858</td>\n",
       "      <td>5.0</td>\n",
       "      <td>1425941523</td>\n",
       "    </tr>\n",
       "  </tbody>\n",
       "</table>\n",
       "</div>"
      ],
      "text/plain": [
       "   userId  movieId  rating   timestamp\n",
       "0       1      110     1.0  1425941529\n",
       "1       1      147     4.5  1425942435\n",
       "2       1      858     5.0  1425941523"
      ]
     },
     "execution_count": 4,
     "metadata": {},
     "output_type": "execute_result"
    }
   ],
   "source": [
    "avaliacoes.head(3)"
   ]
  },
  {
   "cell_type": "code",
   "execution_count": 5,
   "id": "29ce91c0",
   "metadata": {},
   "outputs": [
    {
     "data": {
      "image/png": "[encoded data removed]",
      "text/plain": [
       "<Figure size 640x480 with 1 Axes>"
      ]
     },
     "metadata": {},
     "output_type": "display_data"
    }
   ],
   "source": [
    "# visão geral da média de tempo do filme\n",
    "\n",
    "sns.distplot( filmes['runtime'] );"
   ]
  },
  {
   "cell_type": "code",
   "execution_count": 6,
   "id": "9e36b9bf",
   "metadata": {},
   "outputs": [
    {
     "data": {
      "image/png": "[encoded data removed]",
      "text/plain": [
       "<Figure size 640x480 with 1 Axes>"
      ]
     },
     "metadata": {},
     "output_type": "display_data"
    }
   ],
   "source": [
    "# visão geral da média de nota dos filmes\n",
    "\n",
    "sns.distplot( filmes['vote_average'] );"
   ]
  },
  {
   "cell_type": "code",
   "execution_count": 7,
   "id": "37420ce3",
   "metadata": {},
   "outputs": [],
   "source": [
    "# Filtrando somente as colunas necessárias\n",
    "filmes = filmes [['id','original_title','original_language','vote_count']]"
   ]
  },
  {
   "cell_type": "code",
   "execution_count": 8,
   "id": "e9b71310",
   "metadata": {},
   "outputs": [],
   "source": [
    "# Filtrando somente as colunas necessárias\n",
    "avaliacoes = avaliacoes [['userId','movieId','rating']]"
   ]
  },
  {
   "cell_type": "code",
   "execution_count": 9,
   "id": "a1f162b1",
   "metadata": {},
   "outputs": [
    {
     "data": {
      "text/plain": [
       "id                    0\n",
       "original_title        0\n",
       "original_language    11\n",
       "vote_count            6\n",
       "dtype: int64"
      ]
     },
     "execution_count": 9,
     "metadata": {},
     "output_type": "execute_result"
    }
   ],
   "source": [
    "# Verificando se há valores nulos\n",
    "filmes.isna().sum()"
   ]
  },
  {
   "cell_type": "code",
   "execution_count": 10,
   "id": "0da5ef73",
   "metadata": {},
   "outputs": [],
   "source": [
    "# Como são poucos os valores nulos iremos remover porque não terá impacto nenhum\n",
    "filmes.dropna(inplace = True)"
   ]
  },
  {
   "cell_type": "code",
   "execution_count": 11,
   "id": "04fc19c3",
   "metadata": {},
   "outputs": [
    {
     "data": {
      "text/plain": [
       "userId     0\n",
       "movieId    0\n",
       "rating     0\n",
       "dtype: int64"
      ]
     },
     "execution_count": 11,
     "metadata": {},
     "output_type": "execute_result"
    }
   ],
   "source": [
    "# Verificando se há valores nulos\n",
    "avaliacoes.isna().sum()"
   ]
  },
  {
   "cell_type": "code",
   "execution_count": 12,
   "id": "23d4e480",
   "metadata": {},
   "outputs": [
    {
     "data": {
      "text/plain": [
       "(9452,)"
      ]
     },
     "execution_count": 12,
     "metadata": {},
     "output_type": "execute_result"
    }
   ],
   "source": [
    "# Vamos pegar o userId somente de usuários que fizeram mais de 500 avaliações, para um resultado mais preciso\n",
    "qt_avaliacoes = avaliacoes['userId'].value_counts() > 500\n",
    "y = qt_avaliacoes[qt_avaliacoes].index\n",
    "y.shape"
   ]
  },
  {
   "cell_type": "code",
   "execution_count": 13,
   "id": "9b0da841",
   "metadata": {},
   "outputs": [
    {
     "data": {
      "text/plain": [
       "(26024289, 3)"
      ]
     },
     "execution_count": 13,
     "metadata": {},
     "output_type": "execute_result"
    }
   ],
   "source": [
    "# visualizando o tamanho do dataset Avaliações\n",
    "avaliacoes.shape"
   ]
  },
  {
   "cell_type": "code",
   "execution_count": 14,
   "id": "d3615a32",
   "metadata": {},
   "outputs": [],
   "source": [
    "# Pegando somente avaliacoes dos usuarios que avaliaram mais de 500 vezes\n",
    "avaliacoes = avaliacoes[avaliacoes['userId'].isin(y)]"
   ]
  },
  {
   "cell_type": "code",
   "execution_count": 15,
   "id": "10d8adf0",
   "metadata": {},
   "outputs": [
    {
     "data": {
      "text/plain": [
       "(8543119, 3)"
      ]
     },
     "execution_count": 15,
     "metadata": {},
     "output_type": "execute_result"
    }
   ],
   "source": [
    "# visualizando o tamanho do dataset Avaliações\n",
    "avaliacoes.shape"
   ]
  },
  {
   "cell_type": "code",
   "execution_count": 16,
   "id": "986f49c9",
   "metadata": {},
   "outputs": [],
   "source": [
    "# Vamos usar os filmes que possuem somente uma quantidade de avaliações superior a 500 avaliações\n",
    "filmes = filmes[filmes['vote_count'] > 500]"
   ]
  },
  {
   "cell_type": "code",
   "execution_count": 17,
   "id": "f2c15f6e",
   "metadata": {},
   "outputs": [],
   "source": [
    "# Vamos agrupar e visualizar a quantidade de filmes pela linguagem\n",
    "filmes_linguagem = filmes['original_language'].value_counts()"
   ]
  },
  {
   "cell_type": "code",
   "execution_count": 18,
   "id": "834af5b8",
   "metadata": {},
   "outputs": [],
   "source": [
    "# Precisamos converter a variavel ID_FILME em inteiro\n",
    "filmes['id'] = filmes['id'].astype(int)"
   ]
  },
  {
   "cell_type": "code",
   "execution_count": 19,
   "id": "0604e2a7",
   "metadata": {},
   "outputs": [
    {
     "data": {
      "text/html": [
       "<div>\n",
       "<style scoped>\n",
       "    .dataframe tbody tr th:only-of-type {\n",
       "        vertical-align: middle;\n",
       "    }\n",
       "\n",
       "    .dataframe tbody tr th {\n",
       "        vertical-align: top;\n",
       "    }\n",
       "\n",
       "    .dataframe thead th {\n",
       "        text-align: right;\n",
       "    }\n",
       "</style>\n",
       "<table border=\"1\" class=\"dataframe\">\n",
       "  <thead>\n",
       "    <tr style=\"text-align: right;\">\n",
       "      <th></th>\n",
       "      <th>userId</th>\n",
       "      <th>movieId</th>\n",
       "      <th>rating</th>\n",
       "      <th>original_title</th>\n",
       "      <th>original_language</th>\n",
       "      <th>vote_count</th>\n",
       "    </tr>\n",
       "  </thead>\n",
       "  <tbody>\n",
       "    <tr>\n",
       "      <th>0</th>\n",
       "      <td>24</td>\n",
       "      <td>25</td>\n",
       "      <td>3.0</td>\n",
       "      <td>Jarhead</td>\n",
       "      <td>en</td>\n",
       "      <td>776.0</td>\n",
       "    </tr>\n",
       "    <tr>\n",
       "      <th>1</th>\n",
       "      <td>120</td>\n",
       "      <td>25</td>\n",
       "      <td>4.5</td>\n",
       "      <td>Jarhead</td>\n",
       "      <td>en</td>\n",
       "      <td>776.0</td>\n",
       "    </tr>\n",
       "    <tr>\n",
       "      <th>2</th>\n",
       "      <td>132</td>\n",
       "      <td>25</td>\n",
       "      <td>4.0</td>\n",
       "      <td>Jarhead</td>\n",
       "      <td>en</td>\n",
       "      <td>776.0</td>\n",
       "    </tr>\n",
       "    <tr>\n",
       "      <th>3</th>\n",
       "      <td>150</td>\n",
       "      <td>25</td>\n",
       "      <td>3.0</td>\n",
       "      <td>Jarhead</td>\n",
       "      <td>en</td>\n",
       "      <td>776.0</td>\n",
       "    </tr>\n",
       "    <tr>\n",
       "      <th>4</th>\n",
       "      <td>229</td>\n",
       "      <td>25</td>\n",
       "      <td>4.0</td>\n",
       "      <td>Jarhead</td>\n",
       "      <td>en</td>\n",
       "      <td>776.0</td>\n",
       "    </tr>\n",
       "  </tbody>\n",
       "</table>\n",
       "</div>"
      ],
      "text/plain": [
       "   userId  movieId  rating original_title original_language  vote_count\n",
       "0      24       25     3.0        Jarhead                en       776.0\n",
       "1     120       25     4.5        Jarhead                en       776.0\n",
       "2     132       25     4.0        Jarhead                en       776.0\n",
       "3     150       25     3.0        Jarhead                en       776.0\n",
       "4     229       25     4.0        Jarhead                en       776.0"
      ]
     },
     "execution_count": 19,
     "metadata": {},
     "output_type": "execute_result"
    }
   ],
   "source": [
    "# Concatenando os dataframes\n",
    "filmes = filmes.rename(columns={'id': 'movieId'})\n",
    "avaliacoes_e_filmes = avaliacoes.merge(filmes, on = 'movieId')\n",
    "avaliacoes_e_filmes.head()"
   ]
  },
  {
   "cell_type": "code",
   "execution_count": 20,
   "id": "03fac5fe",
   "metadata": {},
   "outputs": [
    {
     "data": {
      "text/plain": [
       "(807744, 6)"
      ]
     },
     "execution_count": 20,
     "metadata": {},
     "output_type": "execute_result"
    }
   ],
   "source": [
    "# Verificando a quantidade de filmes com avaliacoes pelo tamanho do arquivo\n",
    "avaliacoes_e_filmes.shape"
   ]
  },
  {
   "cell_type": "code",
   "execution_count": 21,
   "id": "5bb2c865",
   "metadata": {},
   "outputs": [
    {
     "data": {
      "text/plain": [
       "userId               0\n",
       "movieId              0\n",
       "rating               0\n",
       "original_title       0\n",
       "original_language    0\n",
       "vote_count           0\n",
       "dtype: int64"
      ]
     },
     "execution_count": 21,
     "metadata": {},
     "output_type": "execute_result"
    }
   ],
   "source": [
    "# Verificando se há valores nulos\n",
    "avaliacoes_e_filmes.isna().sum()"
   ]
  },
  {
   "cell_type": "code",
   "execution_count": 22,
   "id": "5b7d071f",
   "metadata": {},
   "outputs": [],
   "source": [
    "# Vamos descartar os valores duplicados, pra que o usuario não avalie o mesmo filme\n",
    "avaliacoes_e_filmes.drop_duplicates(['userId','movieId'], inplace = True)"
   ]
  },
  {
   "cell_type": "code",
   "execution_count": 23,
   "id": "6a4b5ada",
   "metadata": {},
   "outputs": [],
   "source": [
    "# Vamos excluir a variavel movieId porque não iremos utiliza-la, para deixar mais performatico\n",
    "del avaliacoes_e_filmes['movieId']"
   ]
  },
  {
   "cell_type": "code",
   "execution_count": 24,
   "id": "9067eb1c",
   "metadata": {},
   "outputs": [
    {
     "data": {
      "text/html": [
       "<div>\n",
       "<style scoped>\n",
       "    .dataframe tbody tr th:only-of-type {\n",
       "        vertical-align: middle;\n",
       "    }\n",
       "\n",
       "    .dataframe tbody tr th {\n",
       "        vertical-align: top;\n",
       "    }\n",
       "\n",
       "    .dataframe thead th {\n",
       "        text-align: right;\n",
       "    }\n",
       "</style>\n",
       "<table border=\"1\" class=\"dataframe\">\n",
       "  <thead>\n",
       "    <tr style=\"text-align: right;\">\n",
       "      <th>userId</th>\n",
       "      <th>24</th>\n",
       "      <th>46</th>\n",
       "      <th>120</th>\n",
       "      <th>132</th>\n",
       "      <th>150</th>\n",
       "      <th>229</th>\n",
       "      <th>231</th>\n",
       "      <th>251</th>\n",
       "      <th>332</th>\n",
       "      <th>340</th>\n",
       "      <th>...</th>\n",
       "      <th>270555</th>\n",
       "      <th>270564</th>\n",
       "      <th>270579</th>\n",
       "      <th>270631</th>\n",
       "      <th>270634</th>\n",
       "      <th>270654</th>\n",
       "      <th>270684</th>\n",
       "      <th>270734</th>\n",
       "      <th>270769</th>\n",
       "      <th>270887</th>\n",
       "    </tr>\n",
       "    <tr>\n",
       "      <th>original_title</th>\n",
       "      <th></th>\n",
       "      <th></th>\n",
       "      <th></th>\n",
       "      <th></th>\n",
       "      <th></th>\n",
       "      <th></th>\n",
       "      <th></th>\n",
       "      <th></th>\n",
       "      <th></th>\n",
       "      <th></th>\n",
       "      <th></th>\n",
       "      <th></th>\n",
       "      <th></th>\n",
       "      <th></th>\n",
       "      <th></th>\n",
       "      <th></th>\n",
       "      <th></th>\n",
       "      <th></th>\n",
       "      <th></th>\n",
       "      <th></th>\n",
       "      <th></th>\n",
       "    </tr>\n",
       "  </thead>\n",
       "  <tbody>\n",
       "    <tr>\n",
       "      <th>10 Things I Hate About You</th>\n",
       "      <td>NaN</td>\n",
       "      <td>NaN</td>\n",
       "      <td>NaN</td>\n",
       "      <td>NaN</td>\n",
       "      <td>NaN</td>\n",
       "      <td>NaN</td>\n",
       "      <td>NaN</td>\n",
       "      <td>NaN</td>\n",
       "      <td>NaN</td>\n",
       "      <td>NaN</td>\n",
       "      <td>...</td>\n",
       "      <td>NaN</td>\n",
       "      <td>NaN</td>\n",
       "      <td>NaN</td>\n",
       "      <td>NaN</td>\n",
       "      <td>NaN</td>\n",
       "      <td>NaN</td>\n",
       "      <td>NaN</td>\n",
       "      <td>NaN</td>\n",
       "      <td>NaN</td>\n",
       "      <td>NaN</td>\n",
       "    </tr>\n",
       "    <tr>\n",
       "      <th>10,000 BC</th>\n",
       "      <td>NaN</td>\n",
       "      <td>NaN</td>\n",
       "      <td>NaN</td>\n",
       "      <td>NaN</td>\n",
       "      <td>NaN</td>\n",
       "      <td>NaN</td>\n",
       "      <td>NaN</td>\n",
       "      <td>NaN</td>\n",
       "      <td>NaN</td>\n",
       "      <td>NaN</td>\n",
       "      <td>...</td>\n",
       "      <td>NaN</td>\n",
       "      <td>NaN</td>\n",
       "      <td>NaN</td>\n",
       "      <td>NaN</td>\n",
       "      <td>NaN</td>\n",
       "      <td>NaN</td>\n",
       "      <td>NaN</td>\n",
       "      <td>NaN</td>\n",
       "      <td>NaN</td>\n",
       "      <td>NaN</td>\n",
       "    </tr>\n",
       "    <tr>\n",
       "      <th>12 Angry Men</th>\n",
       "      <td>NaN</td>\n",
       "      <td>NaN</td>\n",
       "      <td>NaN</td>\n",
       "      <td>NaN</td>\n",
       "      <td>NaN</td>\n",
       "      <td>NaN</td>\n",
       "      <td>NaN</td>\n",
       "      <td>NaN</td>\n",
       "      <td>NaN</td>\n",
       "      <td>NaN</td>\n",
       "      <td>...</td>\n",
       "      <td>NaN</td>\n",
       "      <td>NaN</td>\n",
       "      <td>NaN</td>\n",
       "      <td>NaN</td>\n",
       "      <td>NaN</td>\n",
       "      <td>3.5</td>\n",
       "      <td>NaN</td>\n",
       "      <td>NaN</td>\n",
       "      <td>NaN</td>\n",
       "      <td>NaN</td>\n",
       "    </tr>\n",
       "    <tr>\n",
       "      <th>127 Hours</th>\n",
       "      <td>NaN</td>\n",
       "      <td>NaN</td>\n",
       "      <td>NaN</td>\n",
       "      <td>NaN</td>\n",
       "      <td>NaN</td>\n",
       "      <td>NaN</td>\n",
       "      <td>NaN</td>\n",
       "      <td>NaN</td>\n",
       "      <td>NaN</td>\n",
       "      <td>NaN</td>\n",
       "      <td>...</td>\n",
       "      <td>NaN</td>\n",
       "      <td>NaN</td>\n",
       "      <td>NaN</td>\n",
       "      <td>NaN</td>\n",
       "      <td>NaN</td>\n",
       "      <td>NaN</td>\n",
       "      <td>NaN</td>\n",
       "      <td>NaN</td>\n",
       "      <td>NaN</td>\n",
       "      <td>NaN</td>\n",
       "    </tr>\n",
       "    <tr>\n",
       "      <th>1408</th>\n",
       "      <td>NaN</td>\n",
       "      <td>NaN</td>\n",
       "      <td>NaN</td>\n",
       "      <td>NaN</td>\n",
       "      <td>NaN</td>\n",
       "      <td>NaN</td>\n",
       "      <td>NaN</td>\n",
       "      <td>NaN</td>\n",
       "      <td>NaN</td>\n",
       "      <td>NaN</td>\n",
       "      <td>...</td>\n",
       "      <td>NaN</td>\n",
       "      <td>NaN</td>\n",
       "      <td>NaN</td>\n",
       "      <td>NaN</td>\n",
       "      <td>NaN</td>\n",
       "      <td>NaN</td>\n",
       "      <td>NaN</td>\n",
       "      <td>NaN</td>\n",
       "      <td>NaN</td>\n",
       "      <td>NaN</td>\n",
       "    </tr>\n",
       "  </tbody>\n",
       "</table>\n",
       "<p>5 rows × 9452 columns</p>\n",
       "</div>"
      ],
      "text/plain": [
       "userId                      24      46      120     132     150     229     \\\n",
       "original_title                                                               \n",
       "10 Things I Hate About You     NaN     NaN     NaN     NaN     NaN     NaN   \n",
       "10,000 BC                      NaN     NaN     NaN     NaN     NaN     NaN   \n",
       "12 Angry Men                   NaN     NaN     NaN     NaN     NaN     NaN   \n",
       "127 Hours                      NaN     NaN     NaN     NaN     NaN     NaN   \n",
       "1408                           NaN     NaN     NaN     NaN     NaN     NaN   \n",
       "\n",
       "userId                      231     251     332     340     ...  270555  \\\n",
       "original_title                                              ...           \n",
       "10 Things I Hate About You     NaN     NaN     NaN     NaN  ...     NaN   \n",
       "10,000 BC                      NaN     NaN     NaN     NaN  ...     NaN   \n",
       "12 Angry Men                   NaN     NaN     NaN     NaN  ...     NaN   \n",
       "127 Hours                      NaN     NaN     NaN     NaN  ...     NaN   \n",
       "1408                           NaN     NaN     NaN     NaN  ...     NaN   \n",
       "\n",
       "userId                      270564  270579  270631  270634  270654  270684  \\\n",
       "original_title                                                               \n",
       "10 Things I Hate About You     NaN     NaN     NaN     NaN     NaN     NaN   \n",
       "10,000 BC                      NaN     NaN     NaN     NaN     NaN     NaN   \n",
       "12 Angry Men                   NaN     NaN     NaN     NaN     3.5     NaN   \n",
       "127 Hours                      NaN     NaN     NaN     NaN     NaN     NaN   \n",
       "1408                           NaN     NaN     NaN     NaN     NaN     NaN   \n",
       "\n",
       "userId                      270734  270769  270887  \n",
       "original_title                                      \n",
       "10 Things I Hate About You     NaN     NaN     NaN  \n",
       "10,000 BC                      NaN     NaN     NaN  \n",
       "12 Angry Men                   NaN     NaN     NaN  \n",
       "127 Hours                      NaN     NaN     NaN  \n",
       "1408                           NaN     NaN     NaN  \n",
       "\n",
       "[5 rows x 9452 columns]"
      ]
     },
     "execution_count": 24,
     "metadata": {},
     "output_type": "execute_result"
    }
   ],
   "source": [
    "# Agora precisamos fazer um PIVOT. O que queremos é que cada userId seja uma variavel\n",
    "filmes_pivot = avaliacoes_e_filmes.pivot_table(columns = 'userId', index = 'original_title', values = 'rating')\n",
    "\n",
    "\n",
    "filmes_pivot.head()"
   ]
  },
  {
   "cell_type": "code",
   "execution_count": 25,
   "id": "cb96926b",
   "metadata": {},
   "outputs": [
    {
     "data": {
      "text/html": [
       "<div>\n",
       "<style scoped>\n",
       "    .dataframe tbody tr th:only-of-type {\n",
       "        vertical-align: middle;\n",
       "    }\n",
       "\n",
       "    .dataframe tbody tr th {\n",
       "        vertical-align: top;\n",
       "    }\n",
       "\n",
       "    .dataframe thead th {\n",
       "        text-align: right;\n",
       "    }\n",
       "</style>\n",
       "<table border=\"1\" class=\"dataframe\">\n",
       "  <thead>\n",
       "    <tr style=\"text-align: right;\">\n",
       "      <th>userId</th>\n",
       "      <th>24</th>\n",
       "      <th>46</th>\n",
       "      <th>120</th>\n",
       "      <th>132</th>\n",
       "      <th>150</th>\n",
       "      <th>229</th>\n",
       "      <th>231</th>\n",
       "      <th>251</th>\n",
       "      <th>332</th>\n",
       "      <th>340</th>\n",
       "      <th>...</th>\n",
       "      <th>270555</th>\n",
       "      <th>270564</th>\n",
       "      <th>270579</th>\n",
       "      <th>270631</th>\n",
       "      <th>270634</th>\n",
       "      <th>270654</th>\n",
       "      <th>270684</th>\n",
       "      <th>270734</th>\n",
       "      <th>270769</th>\n",
       "      <th>270887</th>\n",
       "    </tr>\n",
       "    <tr>\n",
       "      <th>original_title</th>\n",
       "      <th></th>\n",
       "      <th></th>\n",
       "      <th></th>\n",
       "      <th></th>\n",
       "      <th></th>\n",
       "      <th></th>\n",
       "      <th></th>\n",
       "      <th></th>\n",
       "      <th></th>\n",
       "      <th></th>\n",
       "      <th></th>\n",
       "      <th></th>\n",
       "      <th></th>\n",
       "      <th></th>\n",
       "      <th></th>\n",
       "      <th></th>\n",
       "      <th></th>\n",
       "      <th></th>\n",
       "      <th></th>\n",
       "      <th></th>\n",
       "      <th></th>\n",
       "    </tr>\n",
       "  </thead>\n",
       "  <tbody>\n",
       "    <tr>\n",
       "      <th>10 Things I Hate About You</th>\n",
       "      <td>0.0</td>\n",
       "      <td>0.0</td>\n",
       "      <td>0.0</td>\n",
       "      <td>0.0</td>\n",
       "      <td>0.0</td>\n",
       "      <td>0.0</td>\n",
       "      <td>0.0</td>\n",
       "      <td>0.0</td>\n",
       "      <td>0.0</td>\n",
       "      <td>0.0</td>\n",
       "      <td>...</td>\n",
       "      <td>0.0</td>\n",
       "      <td>0.0</td>\n",
       "      <td>0.0</td>\n",
       "      <td>0.0</td>\n",
       "      <td>0.0</td>\n",
       "      <td>0.0</td>\n",
       "      <td>0.0</td>\n",
       "      <td>0.0</td>\n",
       "      <td>0.0</td>\n",
       "      <td>0.0</td>\n",
       "    </tr>\n",
       "    <tr>\n",
       "      <th>10,000 BC</th>\n",
       "      <td>0.0</td>\n",
       "      <td>0.0</td>\n",
       "      <td>0.0</td>\n",
       "      <td>0.0</td>\n",
       "      <td>0.0</td>\n",
       "      <td>0.0</td>\n",
       "      <td>0.0</td>\n",
       "      <td>0.0</td>\n",
       "      <td>0.0</td>\n",
       "      <td>0.0</td>\n",
       "      <td>...</td>\n",
       "      <td>0.0</td>\n",
       "      <td>0.0</td>\n",
       "      <td>0.0</td>\n",
       "      <td>0.0</td>\n",
       "      <td>0.0</td>\n",
       "      <td>0.0</td>\n",
       "      <td>0.0</td>\n",
       "      <td>0.0</td>\n",
       "      <td>0.0</td>\n",
       "      <td>0.0</td>\n",
       "    </tr>\n",
       "    <tr>\n",
       "      <th>12 Angry Men</th>\n",
       "      <td>0.0</td>\n",
       "      <td>0.0</td>\n",
       "      <td>0.0</td>\n",
       "      <td>0.0</td>\n",
       "      <td>0.0</td>\n",
       "      <td>0.0</td>\n",
       "      <td>0.0</td>\n",
       "      <td>0.0</td>\n",
       "      <td>0.0</td>\n",
       "      <td>0.0</td>\n",
       "      <td>...</td>\n",
       "      <td>0.0</td>\n",
       "      <td>0.0</td>\n",
       "      <td>0.0</td>\n",
       "      <td>0.0</td>\n",
       "      <td>0.0</td>\n",
       "      <td>3.5</td>\n",
       "      <td>0.0</td>\n",
       "      <td>0.0</td>\n",
       "      <td>0.0</td>\n",
       "      <td>0.0</td>\n",
       "    </tr>\n",
       "    <tr>\n",
       "      <th>127 Hours</th>\n",
       "      <td>0.0</td>\n",
       "      <td>0.0</td>\n",
       "      <td>0.0</td>\n",
       "      <td>0.0</td>\n",
       "      <td>0.0</td>\n",
       "      <td>0.0</td>\n",
       "      <td>0.0</td>\n",
       "      <td>0.0</td>\n",
       "      <td>0.0</td>\n",
       "      <td>0.0</td>\n",
       "      <td>...</td>\n",
       "      <td>0.0</td>\n",
       "      <td>0.0</td>\n",
       "      <td>0.0</td>\n",
       "      <td>0.0</td>\n",
       "      <td>0.0</td>\n",
       "      <td>0.0</td>\n",
       "      <td>0.0</td>\n",
       "      <td>0.0</td>\n",
       "      <td>0.0</td>\n",
       "      <td>0.0</td>\n",
       "    </tr>\n",
       "    <tr>\n",
       "      <th>1408</th>\n",
       "      <td>0.0</td>\n",
       "      <td>0.0</td>\n",
       "      <td>0.0</td>\n",
       "      <td>0.0</td>\n",
       "      <td>0.0</td>\n",
       "      <td>0.0</td>\n",
       "      <td>0.0</td>\n",
       "      <td>0.0</td>\n",
       "      <td>0.0</td>\n",
       "      <td>0.0</td>\n",
       "      <td>...</td>\n",
       "      <td>0.0</td>\n",
       "      <td>0.0</td>\n",
       "      <td>0.0</td>\n",
       "      <td>0.0</td>\n",
       "      <td>0.0</td>\n",
       "      <td>0.0</td>\n",
       "      <td>0.0</td>\n",
       "      <td>0.0</td>\n",
       "      <td>0.0</td>\n",
       "      <td>0.0</td>\n",
       "    </tr>\n",
       "  </tbody>\n",
       "</table>\n",
       "<p>5 rows × 9452 columns</p>\n",
       "</div>"
      ],
      "text/plain": [
       "userId                      24      46      120     132     150     229     \\\n",
       "original_title                                                               \n",
       "10 Things I Hate About You     0.0     0.0     0.0     0.0     0.0     0.0   \n",
       "10,000 BC                      0.0     0.0     0.0     0.0     0.0     0.0   \n",
       "12 Angry Men                   0.0     0.0     0.0     0.0     0.0     0.0   \n",
       "127 Hours                      0.0     0.0     0.0     0.0     0.0     0.0   \n",
       "1408                           0.0     0.0     0.0     0.0     0.0     0.0   \n",
       "\n",
       "userId                      231     251     332     340     ...  270555  \\\n",
       "original_title                                              ...           \n",
       "10 Things I Hate About You     0.0     0.0     0.0     0.0  ...     0.0   \n",
       "10,000 BC                      0.0     0.0     0.0     0.0  ...     0.0   \n",
       "12 Angry Men                   0.0     0.0     0.0     0.0  ...     0.0   \n",
       "127 Hours                      0.0     0.0     0.0     0.0  ...     0.0   \n",
       "1408                           0.0     0.0     0.0     0.0  ...     0.0   \n",
       "\n",
       "userId                      270564  270579  270631  270634  270654  270684  \\\n",
       "original_title                                                               \n",
       "10 Things I Hate About You     0.0     0.0     0.0     0.0     0.0     0.0   \n",
       "10,000 BC                      0.0     0.0     0.0     0.0     0.0     0.0   \n",
       "12 Angry Men                   0.0     0.0     0.0     0.0     3.5     0.0   \n",
       "127 Hours                      0.0     0.0     0.0     0.0     0.0     0.0   \n",
       "1408                           0.0     0.0     0.0     0.0     0.0     0.0   \n",
       "\n",
       "userId                      270734  270769  270887  \n",
       "original_title                                      \n",
       "10 Things I Hate About You     0.0     0.0     0.0  \n",
       "10,000 BC                      0.0     0.0     0.0  \n",
       "12 Angry Men                   0.0     0.0     0.0  \n",
       "127 Hours                      0.0     0.0     0.0  \n",
       "1408                           0.0     0.0     0.0  \n",
       "\n",
       "[5 rows x 9452 columns]"
      ]
     },
     "execution_count": 25,
     "metadata": {},
     "output_type": "execute_result"
    }
   ],
   "source": [
    "# Os valores que são nulos iremos preencher com ZERO\n",
    "filmes_pivot.fillna(0, inplace = True)\n",
    "filmes_pivot.head()"
   ]
  },
  {
   "cell_type": "code",
   "execution_count": 26,
   "id": "12013e40",
   "metadata": {},
   "outputs": [],
   "source": [
    "# Vamos transformar o nosso dataset em uma matriz sparsa\n",
    "filmes_sparse = csr_matrix(filmes_pivot)"
   ]
  },
  {
   "cell_type": "code",
   "execution_count": 27,
   "id": "5ac7a023",
   "metadata": {},
   "outputs": [
    {
     "data": {
      "text/html": [
       "<style>#sk-container-id-1 {color: black;}#sk-container-id-1 pre{padding: 0;}#sk-container-id-1 div.sk-toggleable {background-color: white;}#sk-container-id-1 label.sk-toggleable__label {cursor: pointer;display: block;width: 100%;margin-bottom: 0;padding: 0.3em;box-sizing: border-box;text-align: center;}#sk-container-id-1 label.sk-toggleable__label-arrow:before {content: \"▸\";float: left;margin-right: 0.25em;color: #696969;}#sk-container-id-1 label.sk-toggleable__label-arrow:hover:before {color: black;}#sk-container-id-1 div.sk-estimator:hover label.sk-toggleable__label-arrow:before {color: black;}#sk-container-id-1 div.sk-toggleable__content {max-height: 0;max-width: 0;overflow: hidden;text-align: left;background-color: #f0f8ff;}#sk-container-id-1 div.sk-toggleable__content pre {margin: 0.2em;color: black;border-radius: 0.25em;background-color: #f0f8ff;}#sk-container-id-1 input.sk-toggleable__control:checked~div.sk-toggleable__content {max-height: 200px;max-width: 100%;overflow: auto;}#sk-container-id-1 input.sk-toggleable__control:checked~label.sk-toggleable__label-arrow:before {content: \"▾\";}#sk-container-id-1 div.sk-estimator input.sk-toggleable__control:checked~label.sk-toggleable__label {background-color: #d4ebff;}#sk-container-id-1 div.sk-label input.sk-toggleable__control:checked~label.sk-toggleable__label {background-color: #d4ebff;}#sk-container-id-1 input.sk-hidden--visually {border: 0;clip: rect(1px 1px 1px 1px);clip: rect(1px, 1px, 1px, 1px);height: 1px;margin: -1px;overflow: hidden;padding: 0;position: absolute;width: 1px;}#sk-container-id-1 div.sk-estimator {font-family: monospace;background-color: #f0f8ff;border: 1px dotted black;border-radius: 0.25em;box-sizing: border-box;margin-bottom: 0.5em;}#sk-container-id-1 div.sk-estimator:hover {background-color: #d4ebff;}#sk-container-id-1 div.sk-parallel-item::after {content: \"\";width: 100%;border-bottom: 1px solid gray;flex-grow: 1;}#sk-container-id-1 div.sk-label:hover label.sk-toggleable__label {background-color: #d4ebff;}#sk-container-id-1 div.sk-serial::before {content: \"\";position: absolute;border-left: 1px solid gray;box-sizing: border-box;top: 0;bottom: 0;left: 50%;z-index: 0;}#sk-container-id-1 div.sk-serial {display: flex;flex-direction: column;align-items: center;background-color: white;padding-right: 0.2em;padding-left: 0.2em;position: relative;}#sk-container-id-1 div.sk-item {position: relative;z-index: 1;}#sk-container-id-1 div.sk-parallel {display: flex;align-items: stretch;justify-content: center;background-color: white;position: relative;}#sk-container-id-1 div.sk-item::before, #sk-container-id-1 div.sk-parallel-item::before {content: \"\";position: absolute;border-left: 1px solid gray;box-sizing: border-box;top: 0;bottom: 0;left: 50%;z-index: -1;}#sk-container-id-1 div.sk-parallel-item {display: flex;flex-direction: column;z-index: 1;position: relative;background-color: white;}#sk-container-id-1 div.sk-parallel-item:first-child::after {align-self: flex-end;width: 50%;}#sk-container-id-1 div.sk-parallel-item:last-child::after {align-self: flex-start;width: 50%;}#sk-container-id-1 div.sk-parallel-item:only-child::after {width: 0;}#sk-container-id-1 div.sk-dashed-wrapped {border: 1px dashed gray;margin: 0 0.4em 0.5em 0.4em;box-sizing: border-box;padding-bottom: 0.4em;background-color: white;}#sk-container-id-1 div.sk-label label {font-family: monospace;font-weight: bold;display: inline-block;line-height: 1.2em;}#sk-container-id-1 div.sk-label-container {text-align: center;}#sk-container-id-1 div.sk-container {/* jupyter's `normalize.less` sets `[hidden] { display: none; }` but bootstrap.min.css set `[hidden] { display: none !important; }` so we also need the `!important` here to be able to override the default hidden behavior on the sphinx rendered scikit-learn.org. See: https://github.com/scikit-learn/scikit-learn/issues/21755 */display: inline-block !important;position: relative;}#sk-container-id-1 div.sk-text-repr-fallback {display: none;}</style><div id=\"sk-container-id-1\" class=\"sk-top-container\"><div class=\"sk-text-repr-fallback\"><pre>NearestNeighbors(algorithm=&#x27;brute&#x27;)</pre><b>In a Jupyter environment, please rerun this cell to show the HTML representation or trust the notebook. <br />On GitHub, the HTML representation is unable to render, please try loading this page with nbviewer.org.</b></div><div class=\"sk-container\" hidden><div class=\"sk-item\"><div class=\"sk-estimator sk-toggleable\"><input class=\"sk-toggleable__control sk-hidden--visually\" id=\"sk-estimator-id-1\" type=\"checkbox\" checked><label for=\"sk-estimator-id-1\" class=\"sk-toggleable__label sk-toggleable__label-arrow\">NearestNeighbors</label><div class=\"sk-toggleable__content\"><pre>NearestNeighbors(algorithm=&#x27;brute&#x27;)</pre></div></div></div></div></div>"
      ],
      "text/plain": [
       "NearestNeighbors(algorithm='brute')"
      ]
     },
     "execution_count": 27,
     "metadata": {},
     "output_type": "execute_result"
    }
   ],
   "source": [
    "# Criando e treinando o modelo preditivo KNN, onde o algoritmo vai ver as semelhanças dos filmes, para indicar algo parecido\n",
    "modelo = NearestNeighbors(algorithm = 'brute')\n",
    "modelo.fit(filmes_sparse)"
   ]
  },
  {
   "cell_type": "code",
   "execution_count": 28,
   "id": "6070d651",
   "metadata": {},
   "outputs": [],
   "source": [
    "# Previsões"
   ]
  },
  {
   "cell_type": "code",
   "execution_count": 29,
   "id": "a215a8e1",
   "metadata": {},
   "outputs": [
    {
     "name": "stdout",
     "output_type": "stream",
     "text": [
      "Index(['127 Hours', 'American Hustle', 'The Expendables 2', 'Lord of War',\n",
      "       'Ride Along'],\n",
      "      dtype='object', name='original_title')\n"
     ]
    }
   ],
   "source": [
    "# 127 Hours\n",
    "distances, sugestions = modelo.kneighbors(filmes_pivot.filter(items = ['127 Hours'], axis=0).values.reshape(1, -1))\n",
    "\n",
    "for i in range(len(sugestions)):\n",
    "    print(filmes_pivot.index[sugestions[i]])  "
   ]
  },
  {
   "cell_type": "code",
   "execution_count": 30,
   "id": "b3d82bf1",
   "metadata": {},
   "outputs": [
    {
     "name": "stdout",
     "output_type": "stream",
     "text": [
      "Index(['Toy Story', 'Eragon', 'Austin Powers: International Man of Mystery',\n",
      "       'Harry Potter and the Chamber of Secrets', 'Black Hawk Down'],\n",
      "      dtype='object', name='original_title')\n"
     ]
    }
   ],
   "source": [
    "# Toy Story\n",
    "distances, sugestions = modelo.kneighbors(filmes_pivot.filter(items = ['Toy Story'], axis=0).values.reshape(1, -1))\n",
    "\n",
    "for i in range(len(sugestions)):\n",
    "    print(filmes_pivot.index[sugestions[i]])  "
   ]
  },
  {
   "cell_type": "code",
   "execution_count": 31,
   "id": "051470eb",
   "metadata": {},
   "outputs": [
    {
     "name": "stdout",
     "output_type": "stream",
     "text": [
      "Index(['1408', 'The Great Escape', 'Treasure Planet', 'Paranormal Activity 3',\n",
      "       'Oldboy'],\n",
      "      dtype='object', name='original_title')\n"
     ]
    }
   ],
   "source": [
    "# 1408\n",
    "distances, sugestions = modelo.kneighbors(filmes_pivot.filter(items = ['1408'], axis=0).values.reshape(1, -1))\n",
    "\n",
    "for i in range(len(sugestions)):\n",
    "    print(filmes_pivot.index[sugestions[i]]) "
   ]
  },
  {
   "cell_type": "code",
   "execution_count": 32,
   "id": "6717c16d",
   "metadata": {},
   "outputs": [
    {
     "name": "stdout",
     "output_type": "stream",
     "text": [
      "Index(['2 Fast 2 Furious', 'Filth', 'Bambi', 'The Matrix Reloaded',\n",
      "       'Butch Cassidy and the Sundance Kid'],\n",
      "      dtype='object', name='original_title')\n"
     ]
    }
   ],
   "source": [
    "# 2 Fast 2 Furious\n",
    "distances, sugestions = modelo.kneighbors(filmes_pivot.filter(items = ['2 Fast 2 Furious'], axis=0).values.reshape(1, -1))\n",
    "\n",
    "for i in range(len(sugestions)):\n",
    "    print(filmes_pivot.index[sugestions[i]]) "
   ]
  },
  {
   "cell_type": "code",
   "execution_count": 33,
   "id": "31c1ba34",
   "metadata": {},
   "outputs": [
    {
     "name": "stdout",
     "output_type": "stream",
     "text": [
      "Index(['The Wolf of Wall Street', 'The Expendables 2', 'Machete Kills',\n",
      "       'Ride Along', 'Lord of War'],\n",
      "      dtype='object', name='original_title')\n"
     ]
    }
   ],
   "source": [
    "# The Wolf of Wall Street\n",
    "distances, sugestions = modelo.kneighbors(filmes_pivot.filter(items = ['The Wolf of Wall Street'], axis=0).values.reshape(1, -1))\n",
    "\n",
    "for i in range(len(sugestions)):\n",
    "    print(filmes_pivot.index[sugestions[i]]) "
   ]
  },
  {
   "cell_type": "code",
   "execution_count": 34,
   "id": "7c9cb384",
   "metadata": {},
   "outputs": [],
   "source": [
    "# Por se tratar de uma recomendação não existe uma métrica exata, pois quando recomendamos algo existe a \n",
    "#possibilidade da pessoa gostar da recomendação ou não.\n",
    "\n",
    "\n",
    "# Mas uma possivel forma de avaliar, seria a nota que a pessoa dar para o filme, a partir de uma recomendação,\n",
    "# calcular o erro do modelo, algo como: \n",
    "\n",
    "#Nota: 7, Recomendação: Sim\n",
    "#Nota: 9, Recomendação: Sim\n",
    "        \n",
    "#        com base nisso, o erro do modelo estaria em 20%"
   ]
  }
 ],
 "metadata": {
  "kernelspec": {
   "display_name": "Python 3 (ipykernel)",
   "language": "python",
   "name": "python3"
  },
  "language_info": {
   "codemirror_mode": {
    "name": "ipython",
    "version": 3
   },
   "file_extension": ".py",
   "mimetype": "text/x-python",
   "name": "python",
   "nbconvert_exporter": "python",
   "pygments_lexer": "ipython3",
   "version": "3.11.4"
  }
 },
 "nbformat": 4,
 "nbformat_minor": 5
}

{
 "cells": [
  {
   "cell_type": "markdown",
   "id": "6a0f8166",
   "metadata": {
    "heading_collapsed": true
   },
   "source": [
    "##### Preparando o ambiente"
   ]
  },
  {
   "cell_type": "code",
   "execution_count": 1,
   "id": "2218602b",
   "metadata": {
    "hidden": true
   },
   "outputs": [],
   "source": [
    "# Importando as bibliotecas\n",
    "\n",
    "import numpy as np\n",
    "import pandas as pd\n",
    "import seaborn as sns\n",
    "from collections import Counter\n",
    "from sklearn.neighbors import NearestNeighbors\n",
    "import warnings\n",
    "warnings.filterwarnings('ignore')"
   ]
  },
  {
   "cell_type": "code",
   "execution_count": 2,
   "id": "b5cac8db",
   "metadata": {
    "hidden": true
   },
   "outputs": [],
   "source": [
    "# Carrega um modelo para tarefas de processamento e classificação de texto\n",
    "\n",
    "from sentence_transformers import SentenceTransformer, util\n",
    "model = SentenceTransformer('all-MiniLM-L6-v2')"
   ]
  },
  {
   "cell_type": "code",
   "execution_count": 3,
   "id": "68a00657",
   "metadata": {
    "hidden": true
   },
   "outputs": [
    {
     "data": {
      "text/html": [
       "<div>\n",
       "<style scoped>\n",
       "    .dataframe tbody tr th:only-of-type {\n",
       "        vertical-align: middle;\n",
       "    }\n",
       "\n",
       "    .dataframe tbody tr th {\n",
       "        vertical-align: top;\n",
       "    }\n",
       "\n",
       "    .dataframe thead th {\n",
       "        text-align: right;\n",
       "    }\n",
       "</style>\n",
       "<table border=\"1\" class=\"dataframe\">\n",
       "  <thead>\n",
       "    <tr style=\"text-align: right;\">\n",
       "      <th></th>\n",
       "      <th>adult</th>\n",
       "      <th>belongs_to_collection</th>\n",
       "      <th>budget</th>\n",
       "      <th>genres</th>\n",
       "      <th>homepage</th>\n",
       "      <th>id</th>\n",
       "      <th>imdb_id</th>\n",
       "      <th>original_language</th>\n",
       "      <th>original_title</th>\n",
       "      <th>overview</th>\n",
       "      <th>...</th>\n",
       "      <th>release_date</th>\n",
       "      <th>revenue</th>\n",
       "      <th>runtime</th>\n",
       "      <th>spoken_languages</th>\n",
       "      <th>status</th>\n",
       "      <th>tagline</th>\n",
       "      <th>title</th>\n",
       "      <th>video</th>\n",
       "      <th>vote_average</th>\n",
       "      <th>vote_count</th>\n",
       "    </tr>\n",
       "  </thead>\n",
       "  <tbody>\n",
       "    <tr>\n",
       "      <th>0</th>\n",
       "      <td>False</td>\n",
       "      <td>{'id': 10194, 'name': 'Toy Story Collection', ...</td>\n",
       "      <td>30000000</td>\n",
       "      <td>[{'id': 16, 'name': 'Animation'}, {'id': 35, '...</td>\n",
       "      <td>http://toystory.disney.com/toy-story</td>\n",
       "      <td>862</td>\n",
       "      <td>tt0114709</td>\n",
       "      <td>en</td>\n",
       "      <td>Toy Story</td>\n",
       "      <td>Led by Woody, Andy's toys live happily in his ...</td>\n",
       "      <td>...</td>\n",
       "      <td>1995-10-30</td>\n",
       "      <td>373554033.0</td>\n",
       "      <td>81.0</td>\n",
       "      <td>[{'iso_639_1': 'en', 'name': 'English'}]</td>\n",
       "      <td>Released</td>\n",
       "      <td>NaN</td>\n",
       "      <td>Toy Story</td>\n",
       "      <td>False</td>\n",
       "      <td>7.7</td>\n",
       "      <td>5415.0</td>\n",
       "    </tr>\n",
       "    <tr>\n",
       "      <th>1</th>\n",
       "      <td>False</td>\n",
       "      <td>NaN</td>\n",
       "      <td>65000000</td>\n",
       "      <td>[{'id': 12, 'name': 'Adventure'}, {'id': 14, '...</td>\n",
       "      <td>NaN</td>\n",
       "      <td>8844</td>\n",
       "      <td>tt0113497</td>\n",
       "      <td>en</td>\n",
       "      <td>Jumanji</td>\n",
       "      <td>When siblings Judy and Peter discover an encha...</td>\n",
       "      <td>...</td>\n",
       "      <td>1995-12-15</td>\n",
       "      <td>262797249.0</td>\n",
       "      <td>104.0</td>\n",
       "      <td>[{'iso_639_1': 'en', 'name': 'English'}, {'iso...</td>\n",
       "      <td>Released</td>\n",
       "      <td>Roll the dice and unleash the excitement!</td>\n",
       "      <td>Jumanji</td>\n",
       "      <td>False</td>\n",
       "      <td>6.9</td>\n",
       "      <td>2413.0</td>\n",
       "    </tr>\n",
       "    <tr>\n",
       "      <th>2</th>\n",
       "      <td>False</td>\n",
       "      <td>{'id': 119050, 'name': 'Grumpy Old Men Collect...</td>\n",
       "      <td>0</td>\n",
       "      <td>[{'id': 10749, 'name': 'Romance'}, {'id': 35, ...</td>\n",
       "      <td>NaN</td>\n",
       "      <td>15602</td>\n",
       "      <td>tt0113228</td>\n",
       "      <td>en</td>\n",
       "      <td>Grumpier Old Men</td>\n",
       "      <td>A family wedding reignites the ancient feud be...</td>\n",
       "      <td>...</td>\n",
       "      <td>1995-12-22</td>\n",
       "      <td>0.0</td>\n",
       "      <td>101.0</td>\n",
       "      <td>[{'iso_639_1': 'en', 'name': 'English'}]</td>\n",
       "      <td>Released</td>\n",
       "      <td>Still Yelling. Still Fighting. Still Ready for...</td>\n",
       "      <td>Grumpier Old Men</td>\n",
       "      <td>False</td>\n",
       "      <td>6.5</td>\n",
       "      <td>92.0</td>\n",
       "    </tr>\n",
       "    <tr>\n",
       "      <th>3</th>\n",
       "      <td>False</td>\n",
       "      <td>NaN</td>\n",
       "      <td>16000000</td>\n",
       "      <td>[{'id': 35, 'name': 'Comedy'}, {'id': 18, 'nam...</td>\n",
       "      <td>NaN</td>\n",
       "      <td>31357</td>\n",
       "      <td>tt0114885</td>\n",
       "      <td>en</td>\n",
       "      <td>Waiting to Exhale</td>\n",
       "      <td>Cheated on, mistreated and stepped on, the wom...</td>\n",
       "      <td>...</td>\n",
       "      <td>1995-12-22</td>\n",
       "      <td>81452156.0</td>\n",
       "      <td>127.0</td>\n",
       "      <td>[{'iso_639_1': 'en', 'name': 'English'}]</td>\n",
       "      <td>Released</td>\n",
       "      <td>Friends are the people who let you be yourself...</td>\n",
       "      <td>Waiting to Exhale</td>\n",
       "      <td>False</td>\n",
       "      <td>6.1</td>\n",
       "      <td>34.0</td>\n",
       "    </tr>\n",
       "    <tr>\n",
       "      <th>4</th>\n",
       "      <td>False</td>\n",
       "      <td>{'id': 96871, 'name': 'Father of the Bride Col...</td>\n",
       "      <td>0</td>\n",
       "      <td>[{'id': 35, 'name': 'Comedy'}]</td>\n",
       "      <td>NaN</td>\n",
       "      <td>11862</td>\n",
       "      <td>tt0113041</td>\n",
       "      <td>en</td>\n",
       "      <td>Father of the Bride Part II</td>\n",
       "      <td>Just when George Banks has recovered from his ...</td>\n",
       "      <td>...</td>\n",
       "      <td>1995-02-10</td>\n",
       "      <td>76578911.0</td>\n",
       "      <td>106.0</td>\n",
       "      <td>[{'iso_639_1': 'en', 'name': 'English'}]</td>\n",
       "      <td>Released</td>\n",
       "      <td>Just When His World Is Back To Normal... He's ...</td>\n",
       "      <td>Father of the Bride Part II</td>\n",
       "      <td>False</td>\n",
       "      <td>5.7</td>\n",
       "      <td>173.0</td>\n",
       "    </tr>\n",
       "  </tbody>\n",
       "</table>\n",
       "<p>5 rows × 24 columns</p>\n",
       "</div>"
      ],
      "text/plain": [
       "   adult                              belongs_to_collection    budget  \\\n",
       "0  False  {'id': 10194, 'name': 'Toy Story Collection', ...  30000000   \n",
       "1  False                                                NaN  65000000   \n",
       "2  False  {'id': 119050, 'name': 'Grumpy Old Men Collect...         0   \n",
       "3  False                                                NaN  16000000   \n",
       "4  False  {'id': 96871, 'name': 'Father of the Bride Col...         0   \n",
       "\n",
       "                                              genres  \\\n",
       "0  [{'id': 16, 'name': 'Animation'}, {'id': 35, '...   \n",
       "1  [{'id': 12, 'name': 'Adventure'}, {'id': 14, '...   \n",
       "2  [{'id': 10749, 'name': 'Romance'}, {'id': 35, ...   \n",
       "3  [{'id': 35, 'name': 'Comedy'}, {'id': 18, 'nam...   \n",
       "4                     [{'id': 35, 'name': 'Comedy'}]   \n",
       "\n",
       "                               homepage     id    imdb_id original_language  \\\n",
       "0  http://toystory.disney.com/toy-story    862  tt0114709                en   \n",
       "1                                   NaN   8844  tt0113497                en   \n",
       "2                                   NaN  15602  tt0113228                en   \n",
       "3                                   NaN  31357  tt0114885                en   \n",
       "4                                   NaN  11862  tt0113041                en   \n",
       "\n",
       "                original_title  \\\n",
       "0                    Toy Story   \n",
       "1                      Jumanji   \n",
       "2             Grumpier Old Men   \n",
       "3            Waiting to Exhale   \n",
       "4  Father of the Bride Part II   \n",
       "\n",
       "                                            overview  ... release_date  \\\n",
       "0  Led by Woody, Andy's toys live happily in his ...  ...   1995-10-30   \n",
       "1  When siblings Judy and Peter discover an encha...  ...   1995-12-15   \n",
       "2  A family wedding reignites the ancient feud be...  ...   1995-12-22   \n",
       "3  Cheated on, mistreated and stepped on, the wom...  ...   1995-12-22   \n",
       "4  Just when George Banks has recovered from his ...  ...   1995-02-10   \n",
       "\n",
       "       revenue runtime                                   spoken_languages  \\\n",
       "0  373554033.0    81.0           [{'iso_639_1': 'en', 'name': 'English'}]   \n",
       "1  262797249.0   104.0  [{'iso_639_1': 'en', 'name': 'English'}, {'iso...   \n",
       "2          0.0   101.0           [{'iso_639_1': 'en', 'name': 'English'}]   \n",
       "3   81452156.0   127.0           [{'iso_639_1': 'en', 'name': 'English'}]   \n",
       "4   76578911.0   106.0           [{'iso_639_1': 'en', 'name': 'English'}]   \n",
       "\n",
       "     status                                            tagline  \\\n",
       "0  Released                                                NaN   \n",
       "1  Released          Roll the dice and unleash the excitement!   \n",
       "2  Released  Still Yelling. Still Fighting. Still Ready for...   \n",
       "3  Released  Friends are the people who let you be yourself...   \n",
       "4  Released  Just When His World Is Back To Normal... He's ...   \n",
       "\n",
       "                         title  video vote_average vote_count  \n",
       "0                    Toy Story  False          7.7     5415.0  \n",
       "1                      Jumanji  False          6.9     2413.0  \n",
       "2             Grumpier Old Men  False          6.5       92.0  \n",
       "3            Waiting to Exhale  False          6.1       34.0  \n",
       "4  Father of the Bride Part II  False          5.7      173.0  \n",
       "\n",
       "[5 rows x 24 columns]"
      ]
     },
     "execution_count": 3,
     "metadata": {},
     "output_type": "execute_result"
    }
   ],
   "source": [
    "# Importando o arquivo com os filmes\n",
    "df_filmes = pd.read_csv('movies_metadata.csv', on_bad_lines='skip', low_memory = False)\n",
    "\n",
    "# Visualizando cabeçalho do arquivo com infos dos filmes\n",
    "df_filmes.head()"
   ]
  },
  {
   "cell_type": "code",
   "execution_count": 4,
   "id": "1fef4051",
   "metadata": {
    "hidden": true
   },
   "outputs": [
    {
     "data": {
      "text/html": [
       "<div>\n",
       "<style scoped>\n",
       "    .dataframe tbody tr th:only-of-type {\n",
       "        vertical-align: middle;\n",
       "    }\n",
       "\n",
       "    .dataframe tbody tr th {\n",
       "        vertical-align: top;\n",
       "    }\n",
       "\n",
       "    .dataframe thead th {\n",
       "        text-align: right;\n",
       "    }\n",
       "</style>\n",
       "<table border=\"1\" class=\"dataframe\">\n",
       "  <thead>\n",
       "    <tr style=\"text-align: right;\">\n",
       "      <th></th>\n",
       "      <th>userId</th>\n",
       "      <th>movieId</th>\n",
       "      <th>rating</th>\n",
       "      <th>timestamp</th>\n",
       "    </tr>\n",
       "  </thead>\n",
       "  <tbody>\n",
       "    <tr>\n",
       "      <th>0</th>\n",
       "      <td>1</td>\n",
       "      <td>110</td>\n",
       "      <td>1.0</td>\n",
       "      <td>1425941529</td>\n",
       "    </tr>\n",
       "    <tr>\n",
       "      <th>1</th>\n",
       "      <td>1</td>\n",
       "      <td>147</td>\n",
       "      <td>4.5</td>\n",
       "      <td>1425942435</td>\n",
       "    </tr>\n",
       "    <tr>\n",
       "      <th>2</th>\n",
       "      <td>1</td>\n",
       "      <td>858</td>\n",
       "      <td>5.0</td>\n",
       "      <td>1425941523</td>\n",
       "    </tr>\n",
       "    <tr>\n",
       "      <th>3</th>\n",
       "      <td>1</td>\n",
       "      <td>1221</td>\n",
       "      <td>5.0</td>\n",
       "      <td>1425941546</td>\n",
       "    </tr>\n",
       "    <tr>\n",
       "      <th>4</th>\n",
       "      <td>1</td>\n",
       "      <td>1246</td>\n",
       "      <td>5.0</td>\n",
       "      <td>1425941556</td>\n",
       "    </tr>\n",
       "  </tbody>\n",
       "</table>\n",
       "</div>"
      ],
      "text/plain": [
       "   userId  movieId  rating   timestamp\n",
       "0       1      110     1.0  1425941529\n",
       "1       1      147     4.5  1425942435\n",
       "2       1      858     5.0  1425941523\n",
       "3       1     1221     5.0  1425941546\n",
       "4       1     1246     5.0  1425941556"
      ]
     },
     "execution_count": 4,
     "metadata": {},
     "output_type": "execute_result"
    }
   ],
   "source": [
    "# Importando o arquivo de avaliações\n",
    "df_avaliacoes = pd.read_csv('ratings.csv')\n",
    "\n",
    "# Visualizando cabeçalho do arquivo com as avaliações\n",
    "df_avaliacoes.head()"
   ]
  },
  {
   "cell_type": "code",
   "execution_count": 5,
   "id": "4c2136e6",
   "metadata": {
    "hidden": true
   },
   "outputs": [
    {
     "data": {
      "text/html": [
       "<div>\n",
       "<style scoped>\n",
       "    .dataframe tbody tr th:only-of-type {\n",
       "        vertical-align: middle;\n",
       "    }\n",
       "\n",
       "    .dataframe tbody tr th {\n",
       "        vertical-align: top;\n",
       "    }\n",
       "\n",
       "    .dataframe thead th {\n",
       "        text-align: right;\n",
       "    }\n",
       "</style>\n",
       "<table border=\"1\" class=\"dataframe\">\n",
       "  <thead>\n",
       "    <tr style=\"text-align: right;\">\n",
       "      <th></th>\n",
       "      <th>movieId</th>\n",
       "      <th>imdbId</th>\n",
       "      <th>tmdbId</th>\n",
       "    </tr>\n",
       "  </thead>\n",
       "  <tbody>\n",
       "    <tr>\n",
       "      <th>0</th>\n",
       "      <td>1</td>\n",
       "      <td>114709</td>\n",
       "      <td>862.0</td>\n",
       "    </tr>\n",
       "    <tr>\n",
       "      <th>1</th>\n",
       "      <td>2</td>\n",
       "      <td>113497</td>\n",
       "      <td>8844.0</td>\n",
       "    </tr>\n",
       "    <tr>\n",
       "      <th>2</th>\n",
       "      <td>3</td>\n",
       "      <td>113228</td>\n",
       "      <td>15602.0</td>\n",
       "    </tr>\n",
       "    <tr>\n",
       "      <th>3</th>\n",
       "      <td>4</td>\n",
       "      <td>114885</td>\n",
       "      <td>31357.0</td>\n",
       "    </tr>\n",
       "    <tr>\n",
       "      <th>4</th>\n",
       "      <td>5</td>\n",
       "      <td>113041</td>\n",
       "      <td>11862.0</td>\n",
       "    </tr>\n",
       "  </tbody>\n",
       "</table>\n",
       "</div>"
      ],
      "text/plain": [
       "   movieId  imdbId   tmdbId\n",
       "0        1  114709    862.0\n",
       "1        2  113497   8844.0\n",
       "2        3  113228  15602.0\n",
       "3        4  114885  31357.0\n",
       "4        5  113041  11862.0"
      ]
     },
     "execution_count": 5,
     "metadata": {},
     "output_type": "execute_result"
    }
   ],
   "source": [
    "# Importando o arquivo com os identificadores\n",
    "df_links = pd.read_csv('links.csv')\n",
    "\n",
    "# Visualizando cabeçalho do arquivo com infos dos identificadores\n",
    "df_links.head()"
   ]
  },
  {
   "cell_type": "code",
   "execution_count": 6,
   "id": "3ae83f05",
   "metadata": {
    "hidden": true
   },
   "outputs": [
    {
     "data": {
      "text/html": [
       "<div>\n",
       "<style scoped>\n",
       "    .dataframe tbody tr th:only-of-type {\n",
       "        vertical-align: middle;\n",
       "    }\n",
       "\n",
       "    .dataframe tbody tr th {\n",
       "        vertical-align: top;\n",
       "    }\n",
       "\n",
       "    .dataframe thead th {\n",
       "        text-align: right;\n",
       "    }\n",
       "</style>\n",
       "<table border=\"1\" class=\"dataframe\">\n",
       "  <thead>\n",
       "    <tr style=\"text-align: right;\">\n",
       "      <th></th>\n",
       "      <th>id</th>\n",
       "      <th>keywords</th>\n",
       "    </tr>\n",
       "  </thead>\n",
       "  <tbody>\n",
       "    <tr>\n",
       "      <th>0</th>\n",
       "      <td>862</td>\n",
       "      <td>[{'id': 931, 'name': 'jealousy'}, {'id': 4290,...</td>\n",
       "    </tr>\n",
       "    <tr>\n",
       "      <th>1</th>\n",
       "      <td>8844</td>\n",
       "      <td>[{'id': 10090, 'name': 'board game'}, {'id': 1...</td>\n",
       "    </tr>\n",
       "    <tr>\n",
       "      <th>2</th>\n",
       "      <td>15602</td>\n",
       "      <td>[{'id': 1495, 'name': 'fishing'}, {'id': 12392...</td>\n",
       "    </tr>\n",
       "    <tr>\n",
       "      <th>3</th>\n",
       "      <td>31357</td>\n",
       "      <td>[{'id': 818, 'name': 'based on novel'}, {'id':...</td>\n",
       "    </tr>\n",
       "    <tr>\n",
       "      <th>4</th>\n",
       "      <td>11862</td>\n",
       "      <td>[{'id': 1009, 'name': 'baby'}, {'id': 1599, 'n...</td>\n",
       "    </tr>\n",
       "  </tbody>\n",
       "</table>\n",
       "</div>"
      ],
      "text/plain": [
       "      id                                           keywords\n",
       "0    862  [{'id': 931, 'name': 'jealousy'}, {'id': 4290,...\n",
       "1   8844  [{'id': 10090, 'name': 'board game'}, {'id': 1...\n",
       "2  15602  [{'id': 1495, 'name': 'fishing'}, {'id': 12392...\n",
       "3  31357  [{'id': 818, 'name': 'based on novel'}, {'id':...\n",
       "4  11862  [{'id': 1009, 'name': 'baby'}, {'id': 1599, 'n..."
      ]
     },
     "execution_count": 6,
     "metadata": {},
     "output_type": "execute_result"
    }
   ],
   "source": [
    "# Importando o arquivo com as palavras chaves\n",
    "df_keywords = pd.read_csv('keywords.csv')\n",
    "\n",
    "# Visualizando cabeçalho do arquivo com as palavras chaves\n",
    "df_keywords.head()"
   ]
  },
  {
   "cell_type": "markdown",
   "id": "e99aa7d5",
   "metadata": {
    "heading_collapsed": true
   },
   "source": [
    "##### Análise exploratória e preparação dos dados."
   ]
  },
  {
   "cell_type": "code",
   "execution_count": 7,
   "id": "52583ab5",
   "metadata": {
    "hidden": true
   },
   "outputs": [],
   "source": [
    "# Limpeza e tratamento dos dados da planilha de avaliações\n",
    "\n",
    "df_avaliacoes.drop(['timestamp'], axis=1, inplace=True) # Exclui coluna que não será usada\n",
    "df_avaliacoes['movieId'] = df_avaliacoes['movieId'].astype(int, errors='ignore') # Transforma valores em datatype int"
   ]
  },
  {
   "cell_type": "code",
   "execution_count": 8,
   "id": "c89edb17",
   "metadata": {
    "hidden": true
   },
   "outputs": [
    {
     "name": "stdout",
     "output_type": "stream",
     "text": [
      "Valores únicos para cada coluna: \n",
      "userId     270896\n",
      "movieId     45115\n",
      "rating         10\n",
      "dtype: int64 \n",
      "\n",
      "Quantidade de 26024289 avaliações.\n",
      "\n"
     ]
    }
   ],
   "source": [
    "# Visualizando informações após tratamento\n",
    "\n",
    "print(f'Valores únicos para cada coluna: \\n{df_avaliacoes.apply(pd.Series.nunique)} \\n')\n",
    "print(f'Quantidade de {len(df_avaliacoes)} avaliações.\\n')"
   ]
  },
  {
   "cell_type": "code",
   "execution_count": 9,
   "id": "234ec297",
   "metadata": {
    "hidden": true
   },
   "outputs": [
    {
     "data": {
      "text/html": [
       "<div>\n",
       "<style scoped>\n",
       "    .dataframe tbody tr th:only-of-type {\n",
       "        vertical-align: middle;\n",
       "    }\n",
       "\n",
       "    .dataframe tbody tr th {\n",
       "        vertical-align: top;\n",
       "    }\n",
       "\n",
       "    .dataframe thead th {\n",
       "        text-align: right;\n",
       "    }\n",
       "</style>\n",
       "<table border=\"1\" class=\"dataframe\">\n",
       "  <thead>\n",
       "    <tr style=\"text-align: right;\">\n",
       "      <th></th>\n",
       "      <th>userId</th>\n",
       "      <th>movieId</th>\n",
       "      <th>rating</th>\n",
       "    </tr>\n",
       "  </thead>\n",
       "  <tbody>\n",
       "    <tr>\n",
       "      <th>0</th>\n",
       "      <td>1</td>\n",
       "      <td>110</td>\n",
       "      <td>1.0</td>\n",
       "    </tr>\n",
       "    <tr>\n",
       "      <th>1</th>\n",
       "      <td>1</td>\n",
       "      <td>147</td>\n",
       "      <td>4.5</td>\n",
       "    </tr>\n",
       "    <tr>\n",
       "      <th>2</th>\n",
       "      <td>1</td>\n",
       "      <td>858</td>\n",
       "      <td>5.0</td>\n",
       "    </tr>\n",
       "    <tr>\n",
       "      <th>3</th>\n",
       "      <td>1</td>\n",
       "      <td>1221</td>\n",
       "      <td>5.0</td>\n",
       "    </tr>\n",
       "    <tr>\n",
       "      <th>4</th>\n",
       "      <td>1</td>\n",
       "      <td>1246</td>\n",
       "      <td>5.0</td>\n",
       "    </tr>\n",
       "  </tbody>\n",
       "</table>\n",
       "</div>"
      ],
      "text/plain": [
       "   userId  movieId  rating\n",
       "0       1      110     1.0\n",
       "1       1      147     4.5\n",
       "2       1      858     5.0\n",
       "3       1     1221     5.0\n",
       "4       1     1246     5.0"
      ]
     },
     "execution_count": 9,
     "metadata": {},
     "output_type": "execute_result"
    }
   ],
   "source": [
    "# Visualizando df_avaliações após tratamento anterior\n",
    "\n",
    "df_avaliacoes.head()"
   ]
  },
  {
   "cell_type": "code",
   "execution_count": 10,
   "id": "11af328a",
   "metadata": {
    "hidden": true
   },
   "outputs": [
    {
     "name": "stdout",
     "output_type": "stream",
     "text": [
      "Valor médio das avaliações é de 3.53\n"
     ]
    }
   ],
   "source": [
    "# Visão sobre média das avaliações\n",
    "\n",
    "df_avaliacoes_media = df_avaliacoes['rating'].mean()\n",
    "print(f'Valor médio das avaliações é de {df_avaliacoes_media:.2f}')"
   ]
  },
  {
   "cell_type": "code",
   "execution_count": 11,
   "id": "494a7bab",
   "metadata": {
    "hidden": true
   },
   "outputs": [
    {
     "data": {
      "text/plain": [
       "<Axes: title={'center': 'Frequência das avaliações'}, ylabel='Frequency'>"
      ]
     },
     "execution_count": 11,
     "metadata": {},
     "output_type": "execute_result"
    },
    {
     "data": {
      "image/png": "[encoded data removed]",
      "text/plain": [
       "<Figure size 640x480 with 1 Axes>"
      ]
     },
     "metadata": {},
     "output_type": "display_data"
    }
   ],
   "source": [
    "# Plota histograma para demonstrar a frequência das avaliações\n",
    "\n",
    "df_avaliacoes['rating'].plot(kind='hist', bins=9, title='Frequência das avaliações')"
   ]
  },
  {
   "cell_type": "markdown",
   "id": "e240e2a8",
   "metadata": {
    "hidden": true
   },
   "source": [
    "O Dataset df_avaliacoes, possui 26M de avaliações de 270K usuários. A média das avaliações é de 3.53, porém é possível observar pelo histograma que os usuários costumam atribuir notas que vão de 4 a 5."
   ]
  },
  {
   "cell_type": "markdown",
   "id": "aee8e8fa",
   "metadata": {
    "hidden": true
   },
   "source": [
    "Na próxima etapa, é preciso combinar os outros datasets. Importante ressaltar que a coluna \"id\" em df_filmes e df_keywords não é \"movie_id\", mas \"tmdbId\"."
   ]
  },
  {
   "cell_type": "code",
   "execution_count": 12,
   "id": "4f335cc6",
   "metadata": {
    "hidden": true
   },
   "outputs": [],
   "source": [
    "# Limpeza e tratamento dos dados da planilha de metadados\n",
    "\n",
    "df_filmes.rename(columns={'id': 'tmdbId'}, inplace=True) # Renomeia a coluna \"id\" para \"tmdbId\"\n",
    "\n",
    "df_filmes[\"tmdbId\"] =pd.to_numeric(df_filmes['tmdbId'], errors='coerce',downcast=\"integer\") # Converte a coluna tmdbId para datatype numérico"
   ]
  },
  {
   "cell_type": "code",
   "execution_count": 13,
   "id": "2740c664",
   "metadata": {
    "hidden": true
   },
   "outputs": [],
   "source": [
    "# Limpeza e tratamento dos dados da planilha de identificadores\n",
    "\n",
    "df_links = df_links[['movieId', 'tmdbId']] # Seleciona colunas que serão utilizadas\n",
    "df_links.drop_duplicates(subset=['tmdbId'], inplace=True) # Exclui linhas duplicadas da coluna \"tmdbId\""
   ]
  },
  {
   "cell_type": "code",
   "execution_count": 14,
   "id": "6059a121",
   "metadata": {
    "hidden": true
   },
   "outputs": [],
   "source": [
    "# Renomeia a coluna \"id\" para \"tmdbId\" em df_keywords\n",
    "\n",
    "df_keywords.rename(columns={'id': 'tmdbId'}, inplace=True)"
   ]
  },
  {
   "cell_type": "code",
   "execution_count": 15,
   "id": "d57b48a9",
   "metadata": {
    "hidden": true
   },
   "outputs": [],
   "source": [
    "# Juntando os DataFrames df_links e df_filmes, em função da coluna \"tmdbId\", utilizando método inner join\n",
    "\n",
    "df_filmes = pd.merge(df_links, df_filmes, how='inner', on='tmdbId')"
   ]
  },
  {
   "cell_type": "code",
   "execution_count": 16,
   "id": "f6f5fe01",
   "metadata": {
    "hidden": true
   },
   "outputs": [],
   "source": [
    "# Converte em df_filmes, a coluna \"movieId\" para o datatype numérico\n",
    "\n",
    "df_filmes[\"movieId\"] =pd.to_numeric(df_filmes['movieId'], errors='coerce',downcast=\"integer\")"
   ]
  },
  {
   "cell_type": "code",
   "execution_count": 17,
   "id": "cab0bad3",
   "metadata": {
    "hidden": true
   },
   "outputs": [],
   "source": [
    "# Exclui linhas com valores NaN\n",
    "\n",
    "df_filmes.dropna(subset=[\"movieId\"],inplace=True)"
   ]
  },
  {
   "cell_type": "code",
   "execution_count": 18,
   "id": "74a5cc2a",
   "metadata": {
    "hidden": true
   },
   "outputs": [],
   "source": [
    "# Juntando os DataFrames df_filmes e df_keywords, em função da coluna \"tmdbId\", utilizando método left join\n",
    "\n",
    "df_filmes = pd.merge(df_filmes, df_keywords, how='left', on='tmdbId')"
   ]
  },
  {
   "cell_type": "code",
   "execution_count": 19,
   "id": "2a84b3a9",
   "metadata": {
    "hidden": true
   },
   "outputs": [
    {
     "data": {
      "text/html": [
       "<div>\n",
       "<style scoped>\n",
       "    .dataframe tbody tr th:only-of-type {\n",
       "        vertical-align: middle;\n",
       "    }\n",
       "\n",
       "    .dataframe tbody tr th {\n",
       "        vertical-align: top;\n",
       "    }\n",
       "\n",
       "    .dataframe thead th {\n",
       "        text-align: right;\n",
       "    }\n",
       "</style>\n",
       "<table border=\"1\" class=\"dataframe\">\n",
       "  <thead>\n",
       "    <tr style=\"text-align: right;\">\n",
       "      <th></th>\n",
       "      <th>movieId</th>\n",
       "      <th>tmdbId</th>\n",
       "      <th>adult</th>\n",
       "      <th>belongs_to_collection</th>\n",
       "      <th>budget</th>\n",
       "      <th>genres</th>\n",
       "      <th>homepage</th>\n",
       "      <th>imdb_id</th>\n",
       "      <th>original_language</th>\n",
       "      <th>original_title</th>\n",
       "      <th>...</th>\n",
       "      <th>revenue</th>\n",
       "      <th>runtime</th>\n",
       "      <th>spoken_languages</th>\n",
       "      <th>status</th>\n",
       "      <th>tagline</th>\n",
       "      <th>title</th>\n",
       "      <th>video</th>\n",
       "      <th>vote_average</th>\n",
       "      <th>vote_count</th>\n",
       "      <th>keywords</th>\n",
       "    </tr>\n",
       "  </thead>\n",
       "  <tbody>\n",
       "    <tr>\n",
       "      <th>0</th>\n",
       "      <td>1</td>\n",
       "      <td>862.0</td>\n",
       "      <td>False</td>\n",
       "      <td>{'id': 10194, 'name': 'Toy Story Collection', ...</td>\n",
       "      <td>30000000</td>\n",
       "      <td>[{'id': 16, 'name': 'Animation'}, {'id': 35, '...</td>\n",
       "      <td>http://toystory.disney.com/toy-story</td>\n",
       "      <td>tt0114709</td>\n",
       "      <td>en</td>\n",
       "      <td>Toy Story</td>\n",
       "      <td>...</td>\n",
       "      <td>373554033.0</td>\n",
       "      <td>81.0</td>\n",
       "      <td>[{'iso_639_1': 'en', 'name': 'English'}]</td>\n",
       "      <td>Released</td>\n",
       "      <td>NaN</td>\n",
       "      <td>Toy Story</td>\n",
       "      <td>False</td>\n",
       "      <td>7.7</td>\n",
       "      <td>5415.0</td>\n",
       "      <td>[{'id': 931, 'name': 'jealousy'}, {'id': 4290,...</td>\n",
       "    </tr>\n",
       "    <tr>\n",
       "      <th>1</th>\n",
       "      <td>2</td>\n",
       "      <td>8844.0</td>\n",
       "      <td>False</td>\n",
       "      <td>NaN</td>\n",
       "      <td>65000000</td>\n",
       "      <td>[{'id': 12, 'name': 'Adventure'}, {'id': 14, '...</td>\n",
       "      <td>NaN</td>\n",
       "      <td>tt0113497</td>\n",
       "      <td>en</td>\n",
       "      <td>Jumanji</td>\n",
       "      <td>...</td>\n",
       "      <td>262797249.0</td>\n",
       "      <td>104.0</td>\n",
       "      <td>[{'iso_639_1': 'en', 'name': 'English'}, {'iso...</td>\n",
       "      <td>Released</td>\n",
       "      <td>Roll the dice and unleash the excitement!</td>\n",
       "      <td>Jumanji</td>\n",
       "      <td>False</td>\n",
       "      <td>6.9</td>\n",
       "      <td>2413.0</td>\n",
       "      <td>[{'id': 10090, 'name': 'board game'}, {'id': 1...</td>\n",
       "    </tr>\n",
       "    <tr>\n",
       "      <th>2</th>\n",
       "      <td>3</td>\n",
       "      <td>15602.0</td>\n",
       "      <td>False</td>\n",
       "      <td>{'id': 119050, 'name': 'Grumpy Old Men Collect...</td>\n",
       "      <td>0</td>\n",
       "      <td>[{'id': 10749, 'name': 'Romance'}, {'id': 35, ...</td>\n",
       "      <td>NaN</td>\n",
       "      <td>tt0113228</td>\n",
       "      <td>en</td>\n",
       "      <td>Grumpier Old Men</td>\n",
       "      <td>...</td>\n",
       "      <td>0.0</td>\n",
       "      <td>101.0</td>\n",
       "      <td>[{'iso_639_1': 'en', 'name': 'English'}]</td>\n",
       "      <td>Released</td>\n",
       "      <td>Still Yelling. Still Fighting. Still Ready for...</td>\n",
       "      <td>Grumpier Old Men</td>\n",
       "      <td>False</td>\n",
       "      <td>6.5</td>\n",
       "      <td>92.0</td>\n",
       "      <td>[{'id': 1495, 'name': 'fishing'}, {'id': 12392...</td>\n",
       "    </tr>\n",
       "    <tr>\n",
       "      <th>3</th>\n",
       "      <td>4</td>\n",
       "      <td>31357.0</td>\n",
       "      <td>False</td>\n",
       "      <td>NaN</td>\n",
       "      <td>16000000</td>\n",
       "      <td>[{'id': 35, 'name': 'Comedy'}, {'id': 18, 'nam...</td>\n",
       "      <td>NaN</td>\n",
       "      <td>tt0114885</td>\n",
       "      <td>en</td>\n",
       "      <td>Waiting to Exhale</td>\n",
       "      <td>...</td>\n",
       "      <td>81452156.0</td>\n",
       "      <td>127.0</td>\n",
       "      <td>[{'iso_639_1': 'en', 'name': 'English'}]</td>\n",
       "      <td>Released</td>\n",
       "      <td>Friends are the people who let you be yourself...</td>\n",
       "      <td>Waiting to Exhale</td>\n",
       "      <td>False</td>\n",
       "      <td>6.1</td>\n",
       "      <td>34.0</td>\n",
       "      <td>[{'id': 818, 'name': 'based on novel'}, {'id':...</td>\n",
       "    </tr>\n",
       "    <tr>\n",
       "      <th>4</th>\n",
       "      <td>5</td>\n",
       "      <td>11862.0</td>\n",
       "      <td>False</td>\n",
       "      <td>{'id': 96871, 'name': 'Father of the Bride Col...</td>\n",
       "      <td>0</td>\n",
       "      <td>[{'id': 35, 'name': 'Comedy'}]</td>\n",
       "      <td>NaN</td>\n",
       "      <td>tt0113041</td>\n",
       "      <td>en</td>\n",
       "      <td>Father of the Bride Part II</td>\n",
       "      <td>...</td>\n",
       "      <td>76578911.0</td>\n",
       "      <td>106.0</td>\n",
       "      <td>[{'iso_639_1': 'en', 'name': 'English'}]</td>\n",
       "      <td>Released</td>\n",
       "      <td>Just When His World Is Back To Normal... He's ...</td>\n",
       "      <td>Father of the Bride Part II</td>\n",
       "      <td>False</td>\n",
       "      <td>5.7</td>\n",
       "      <td>173.0</td>\n",
       "      <td>[{'id': 1009, 'name': 'baby'}, {'id': 1599, 'n...</td>\n",
       "    </tr>\n",
       "  </tbody>\n",
       "</table>\n",
       "<p>5 rows × 26 columns</p>\n",
       "</div>"
      ],
      "text/plain": [
       "   movieId   tmdbId  adult                              belongs_to_collection  \\\n",
       "0        1    862.0  False  {'id': 10194, 'name': 'Toy Story Collection', ...   \n",
       "1        2   8844.0  False                                                NaN   \n",
       "2        3  15602.0  False  {'id': 119050, 'name': 'Grumpy Old Men Collect...   \n",
       "3        4  31357.0  False                                                NaN   \n",
       "4        5  11862.0  False  {'id': 96871, 'name': 'Father of the Bride Col...   \n",
       "\n",
       "     budget                                             genres  \\\n",
       "0  30000000  [{'id': 16, 'name': 'Animation'}, {'id': 35, '...   \n",
       "1  65000000  [{'id': 12, 'name': 'Adventure'}, {'id': 14, '...   \n",
       "2         0  [{'id': 10749, 'name': 'Romance'}, {'id': 35, ...   \n",
       "3  16000000  [{'id': 35, 'name': 'Comedy'}, {'id': 18, 'nam...   \n",
       "4         0                     [{'id': 35, 'name': 'Comedy'}]   \n",
       "\n",
       "                               homepage    imdb_id original_language  \\\n",
       "0  http://toystory.disney.com/toy-story  tt0114709                en   \n",
       "1                                   NaN  tt0113497                en   \n",
       "2                                   NaN  tt0113228                en   \n",
       "3                                   NaN  tt0114885                en   \n",
       "4                                   NaN  tt0113041                en   \n",
       "\n",
       "                original_title  ...      revenue runtime  \\\n",
       "0                    Toy Story  ...  373554033.0    81.0   \n",
       "1                      Jumanji  ...  262797249.0   104.0   \n",
       "2             Grumpier Old Men  ...          0.0   101.0   \n",
       "3            Waiting to Exhale  ...   81452156.0   127.0   \n",
       "4  Father of the Bride Part II  ...   76578911.0   106.0   \n",
       "\n",
       "                                    spoken_languages    status  \\\n",
       "0           [{'iso_639_1': 'en', 'name': 'English'}]  Released   \n",
       "1  [{'iso_639_1': 'en', 'name': 'English'}, {'iso...  Released   \n",
       "2           [{'iso_639_1': 'en', 'name': 'English'}]  Released   \n",
       "3           [{'iso_639_1': 'en', 'name': 'English'}]  Released   \n",
       "4           [{'iso_639_1': 'en', 'name': 'English'}]  Released   \n",
       "\n",
       "                                             tagline  \\\n",
       "0                                                NaN   \n",
       "1          Roll the dice and unleash the excitement!   \n",
       "2  Still Yelling. Still Fighting. Still Ready for...   \n",
       "3  Friends are the people who let you be yourself...   \n",
       "4  Just When His World Is Back To Normal... He's ...   \n",
       "\n",
       "                         title  video  vote_average vote_count  \\\n",
       "0                    Toy Story  False           7.7     5415.0   \n",
       "1                      Jumanji  False           6.9     2413.0   \n",
       "2             Grumpier Old Men  False           6.5       92.0   \n",
       "3            Waiting to Exhale  False           6.1       34.0   \n",
       "4  Father of the Bride Part II  False           5.7      173.0   \n",
       "\n",
       "                                            keywords  \n",
       "0  [{'id': 931, 'name': 'jealousy'}, {'id': 4290,...  \n",
       "1  [{'id': 10090, 'name': 'board game'}, {'id': 1...  \n",
       "2  [{'id': 1495, 'name': 'fishing'}, {'id': 12392...  \n",
       "3  [{'id': 818, 'name': 'based on novel'}, {'id':...  \n",
       "4  [{'id': 1009, 'name': 'baby'}, {'id': 1599, 'n...  \n",
       "\n",
       "[5 rows x 26 columns]"
      ]
     },
     "execution_count": 19,
     "metadata": {},
     "output_type": "execute_result"
    }
   ],
   "source": [
    "# Visualizando novo dataframe\n",
    "\n",
    "df_filmes.head()"
   ]
  },
  {
   "cell_type": "code",
   "execution_count": 20,
   "id": "ce585489",
   "metadata": {
    "hidden": true
   },
   "outputs": [
    {
     "data": {
      "text/html": [
       "<div>\n",
       "<style scoped>\n",
       "    .dataframe tbody tr th:only-of-type {\n",
       "        vertical-align: middle;\n",
       "    }\n",
       "\n",
       "    .dataframe tbody tr th {\n",
       "        vertical-align: top;\n",
       "    }\n",
       "\n",
       "    .dataframe thead th {\n",
       "        text-align: right;\n",
       "    }\n",
       "</style>\n",
       "<table border=\"1\" class=\"dataframe\">\n",
       "  <thead>\n",
       "    <tr style=\"text-align: right;\">\n",
       "      <th></th>\n",
       "      <th>movieId</th>\n",
       "      <th>original_language</th>\n",
       "      <th>original_title</th>\n",
       "      <th>overview</th>\n",
       "      <th>revenue</th>\n",
       "      <th>runtime</th>\n",
       "      <th>keywords</th>\n",
       "    </tr>\n",
       "  </thead>\n",
       "  <tbody>\n",
       "    <tr>\n",
       "      <th>0</th>\n",
       "      <td>1</td>\n",
       "      <td>en</td>\n",
       "      <td>Toy Story</td>\n",
       "      <td>Led by Woody, Andy's toys live happily in his ...</td>\n",
       "      <td>373554033.0</td>\n",
       "      <td>81.0</td>\n",
       "      <td>[{'id': 931, 'name': 'jealousy'}, {'id': 4290,...</td>\n",
       "    </tr>\n",
       "    <tr>\n",
       "      <th>1</th>\n",
       "      <td>2</td>\n",
       "      <td>en</td>\n",
       "      <td>Jumanji</td>\n",
       "      <td>When siblings Judy and Peter discover an encha...</td>\n",
       "      <td>262797249.0</td>\n",
       "      <td>104.0</td>\n",
       "      <td>[{'id': 10090, 'name': 'board game'}, {'id': 1...</td>\n",
       "    </tr>\n",
       "    <tr>\n",
       "      <th>2</th>\n",
       "      <td>3</td>\n",
       "      <td>en</td>\n",
       "      <td>Grumpier Old Men</td>\n",
       "      <td>A family wedding reignites the ancient feud be...</td>\n",
       "      <td>0.0</td>\n",
       "      <td>101.0</td>\n",
       "      <td>[{'id': 1495, 'name': 'fishing'}, {'id': 12392...</td>\n",
       "    </tr>\n",
       "    <tr>\n",
       "      <th>3</th>\n",
       "      <td>4</td>\n",
       "      <td>en</td>\n",
       "      <td>Waiting to Exhale</td>\n",
       "      <td>Cheated on, mistreated and stepped on, the wom...</td>\n",
       "      <td>81452156.0</td>\n",
       "      <td>127.0</td>\n",
       "      <td>[{'id': 818, 'name': 'based on novel'}, {'id':...</td>\n",
       "    </tr>\n",
       "    <tr>\n",
       "      <th>4</th>\n",
       "      <td>5</td>\n",
       "      <td>en</td>\n",
       "      <td>Father of the Bride Part II</td>\n",
       "      <td>Just when George Banks has recovered from his ...</td>\n",
       "      <td>76578911.0</td>\n",
       "      <td>106.0</td>\n",
       "      <td>[{'id': 1009, 'name': 'baby'}, {'id': 1599, 'n...</td>\n",
       "    </tr>\n",
       "  </tbody>\n",
       "</table>\n",
       "</div>"
      ],
      "text/plain": [
       "   movieId original_language               original_title  \\\n",
       "0        1                en                    Toy Story   \n",
       "1        2                en                      Jumanji   \n",
       "2        3                en             Grumpier Old Men   \n",
       "3        4                en            Waiting to Exhale   \n",
       "4        5                en  Father of the Bride Part II   \n",
       "\n",
       "                                            overview      revenue  runtime  \\\n",
       "0  Led by Woody, Andy's toys live happily in his ...  373554033.0     81.0   \n",
       "1  When siblings Judy and Peter discover an encha...  262797249.0    104.0   \n",
       "2  A family wedding reignites the ancient feud be...          0.0    101.0   \n",
       "3  Cheated on, mistreated and stepped on, the wom...   81452156.0    127.0   \n",
       "4  Just when George Banks has recovered from his ...   76578911.0    106.0   \n",
       "\n",
       "                                            keywords  \n",
       "0  [{'id': 931, 'name': 'jealousy'}, {'id': 4290,...  \n",
       "1  [{'id': 10090, 'name': 'board game'}, {'id': 1...  \n",
       "2  [{'id': 1495, 'name': 'fishing'}, {'id': 12392...  \n",
       "3  [{'id': 818, 'name': 'based on novel'}, {'id':...  \n",
       "4  [{'id': 1009, 'name': 'baby'}, {'id': 1599, 'n...  "
      ]
     },
     "execution_count": 20,
     "metadata": {},
     "output_type": "execute_result"
    }
   ],
   "source": [
    "# Filtrando colunas do dataframe df_filmes\n",
    "\n",
    "df_filmes = df_filmes[['movieId', 'original_language', 'original_title', 'overview', 'revenue', 'runtime', 'keywords']]\n",
    "df_filmes.head()     "
   ]
  },
  {
   "cell_type": "code",
   "execution_count": 21,
   "id": "55af8794",
   "metadata": {
    "hidden": true
   },
   "outputs": [],
   "source": [
    "# Juntando os DataFrames df_avaliacoes e df_filmes, em função da coluna \"movieId\", utilizando método inner join\n",
    "\n",
    "df_avaliacoes_filmes = pd.merge(df_avaliacoes, df_filmes, on=\"movieId\",how=\"inner\")"
   ]
  },
  {
   "cell_type": "code",
   "execution_count": 22,
   "id": "004c8702",
   "metadata": {
    "hidden": true
   },
   "outputs": [],
   "source": [
    "# Vamos manter somente filmes que tem idioma original inglês\n",
    "\n",
    "df_avaliacoes_filmes.drop(df_avaliacoes_filmes[df_avaliacoes_filmes['original_language'] != 'en'].index, inplace=True) "
   ]
  },
  {
   "cell_type": "code",
   "execution_count": 23,
   "id": "b3b142aa",
   "metadata": {
    "hidden": true
   },
   "outputs": [
    {
     "name": "stdout",
     "output_type": "stream",
     "text": [
      "No total, foi considerado 60539 votantes, pois votaram em mais de 100 filmes.\n"
     ]
    }
   ],
   "source": [
    "# Considerar apenas usuários que votaram em mais de 100 filmes\n",
    "\n",
    "user_groupby = pd.Series(Counter(df_avaliacoes_filmes['userId']))\n",
    "votantes_freq = user_groupby.loc[lambda x : x > 100]\n",
    "print(f'No total, foi considerado {votantes_freq.size} votantes, pois votaram em mais de 100 filmes.')"
   ]
  },
  {
   "cell_type": "code",
   "execution_count": 24,
   "id": "608388ce",
   "metadata": {
    "hidden": true
   },
   "outputs": [
    {
     "name": "stdout",
     "output_type": "stream",
     "text": [
      "No total, foi considerado 3476 filmes como popular, pois eles tiveram mais de 1000 avaliações.\n"
     ]
    }
   ],
   "source": [
    "# Considerar filmes como populares aqueles que tiveram mais de 1000 votos\n",
    "\n",
    "movies_groupby = pd.Series(Counter(df_avaliacoes_filmes['movieId']))\n",
    "filmes_populares = movies_groupby.loc[lambda x : x > 1000]\n",
    "print(f'No total, foi considerado {filmes_populares.size} filmes como popular, pois eles tiveram mais de 1000 avaliações.')"
   ]
  },
  {
   "cell_type": "code",
   "execution_count": 25,
   "id": "6e465e88",
   "metadata": {
    "hidden": true
   },
   "outputs": [],
   "source": [
    "# Converte em array numpy\n",
    "\n",
    "votantes_freq = np.array(votantes_freq.index)\n",
    "filmes_populares = np.array(filmes_populares.index)"
   ]
  },
  {
   "cell_type": "code",
   "execution_count": 26,
   "id": "c15d31c7",
   "metadata": {
    "hidden": true
   },
   "outputs": [],
   "source": [
    "# Mantém somente userId dos usuários considerados votantes frequentes\n",
    "\n",
    "df_avaliacoes_filmes = df_avaliacoes_filmes[df_avaliacoes_filmes['userId'].isin(votantes_freq)]"
   ]
  },
  {
   "cell_type": "code",
   "execution_count": 27,
   "id": "142893e0",
   "metadata": {
    "hidden": true
   },
   "outputs": [],
   "source": [
    "# Mantém somente movieId dos filmes considerados populares\n",
    "\n",
    "df_avaliacoes_filmes = df_avaliacoes_filmes[df_avaliacoes_filmes['movieId'].isin(filmes_populares)]"
   ]
  },
  {
   "cell_type": "code",
   "execution_count": 28,
   "id": "685a298e",
   "metadata": {
    "hidden": true
   },
   "outputs": [],
   "source": [
    "# Exclui linhas que contenham valores ausentes\n",
    "\n",
    "df_avaliacoes_filmes.dropna(inplace=True)"
   ]
  },
  {
   "cell_type": "code",
   "execution_count": 29,
   "id": "7eca3b6d",
   "metadata": {
    "hidden": true
   },
   "outputs": [
    {
     "name": "stdout",
     "output_type": "stream",
     "text": [
      "<class 'pandas.core.frame.DataFrame'>\n",
      "Index: 16550290 entries, 1 to 25344669\n",
      "Data columns (total 9 columns):\n",
      " #   Column             Dtype  \n",
      "---  ------             -----  \n",
      " 0   userId             int64  \n",
      " 1   movieId            int32  \n",
      " 2   rating             float64\n",
      " 3   original_language  object \n",
      " 4   original_title     object \n",
      " 5   overview           object \n",
      " 6   revenue            float64\n",
      " 7   runtime            float64\n",
      " 8   keywords           object \n",
      "dtypes: float64(3), int32(1), int64(1), object(4)\n",
      "memory usage: 1.2+ GB\n",
      "None\n",
      "\n"
     ]
    }
   ],
   "source": [
    "# Visualizando informações sobre o dataframe\n",
    "\n",
    "print(f'{df_avaliacoes_filmes.info()}\\n')"
   ]
  },
  {
   "cell_type": "markdown",
   "id": "03407bd0",
   "metadata": {
    "heading_collapsed": true
   },
   "source": [
    "##### Finalizamos a etapa de análise exploratória e preparação dos dados. Mesmo após finalizar, há mais de 16M de dados. A partir deste ponto, criamos o sistema de recomendação."
   ]
  },
  {
   "cell_type": "code",
   "execution_count": 30,
   "id": "c48d8e1e",
   "metadata": {
    "hidden": true
   },
   "outputs": [
    {
     "data": {
      "text/html": [
       "<div>\n",
       "<style scoped>\n",
       "    .dataframe tbody tr th:only-of-type {\n",
       "        vertical-align: middle;\n",
       "    }\n",
       "\n",
       "    .dataframe tbody tr th {\n",
       "        vertical-align: top;\n",
       "    }\n",
       "\n",
       "    .dataframe thead th {\n",
       "        text-align: right;\n",
       "    }\n",
       "</style>\n",
       "<table border=\"1\" class=\"dataframe\">\n",
       "  <thead>\n",
       "    <tr style=\"text-align: right;\">\n",
       "      <th></th>\n",
       "      <th>userId</th>\n",
       "      <th>original_title</th>\n",
       "      <th>rating</th>\n",
       "    </tr>\n",
       "  </thead>\n",
       "  <tbody>\n",
       "    <tr>\n",
       "      <th>1</th>\n",
       "      <td>11</td>\n",
       "      <td>Braveheart</td>\n",
       "      <td>3.5</td>\n",
       "    </tr>\n",
       "    <tr>\n",
       "      <th>3</th>\n",
       "      <td>24</td>\n",
       "      <td>Braveheart</td>\n",
       "      <td>5.0</td>\n",
       "    </tr>\n",
       "    <tr>\n",
       "      <th>5</th>\n",
       "      <td>30</td>\n",
       "      <td>Braveheart</td>\n",
       "      <td>5.0</td>\n",
       "    </tr>\n",
       "    <tr>\n",
       "      <th>7</th>\n",
       "      <td>34</td>\n",
       "      <td>Braveheart</td>\n",
       "      <td>5.0</td>\n",
       "    </tr>\n",
       "    <tr>\n",
       "      <th>8</th>\n",
       "      <td>49</td>\n",
       "      <td>Braveheart</td>\n",
       "      <td>4.0</td>\n",
       "    </tr>\n",
       "  </tbody>\n",
       "</table>\n",
       "</div>"
      ],
      "text/plain": [
       "   userId original_title  rating\n",
       "1      11     Braveheart     3.5\n",
       "3      24     Braveheart     5.0\n",
       "5      30     Braveheart     5.0\n",
       "7      34     Braveheart     5.0\n",
       "8      49     Braveheart     4.0"
      ]
     },
     "execution_count": 30,
     "metadata": {},
     "output_type": "execute_result"
    }
   ],
   "source": [
    "# Cria um novo DF para realizar a matriz\n",
    "\n",
    "df_matrix =  df_avaliacoes_filmes[['userId', 'original_title', 'rating']]\n",
    "df_matrix.head()"
   ]
  },
  {
   "cell_type": "code",
   "execution_count": 31,
   "id": "87695585",
   "metadata": {
    "hidden": true
   },
   "outputs": [
    {
     "name": "stdout",
     "output_type": "stream",
     "text": [
      "<class 'pandas.core.frame.DataFrame'>\n",
      "Index: 3417 entries, (500) Days of Summer to Æon Flux\n",
      "Columns: 60539 entries, 8 to 270896\n",
      "dtypes: float64(60539)\n",
      "memory usage: 1.5+ GB\n"
     ]
    }
   ],
   "source": [
    "# Cria um pivot - as linhas representam as avaliações dos usuários e as colunas representam os filmes\n",
    "\n",
    "filmes_pivot = df_matrix.pivot_table(index='original_title',  columns='userId', values='rating')\n",
    "filmes_pivot.info()"
   ]
  },
  {
   "cell_type": "code",
   "execution_count": 32,
   "id": "cca7faed",
   "metadata": {
    "hidden": true
   },
   "outputs": [
    {
     "data": {
      "text/html": [
       "<div>\n",
       "<style scoped>\n",
       "    .dataframe tbody tr th:only-of-type {\n",
       "        vertical-align: middle;\n",
       "    }\n",
       "\n",
       "    .dataframe tbody tr th {\n",
       "        vertical-align: top;\n",
       "    }\n",
       "\n",
       "    .dataframe thead th {\n",
       "        text-align: right;\n",
       "    }\n",
       "</style>\n",
       "<table border=\"1\" class=\"dataframe\">\n",
       "  <thead>\n",
       "    <tr style=\"text-align: right;\">\n",
       "      <th>userId</th>\n",
       "      <th>8</th>\n",
       "      <th>11</th>\n",
       "      <th>12</th>\n",
       "      <th>15</th>\n",
       "      <th>16</th>\n",
       "      <th>20</th>\n",
       "      <th>24</th>\n",
       "      <th>30</th>\n",
       "      <th>34</th>\n",
       "      <th>37</th>\n",
       "      <th>...</th>\n",
       "      <th>270859</th>\n",
       "      <th>270869</th>\n",
       "      <th>270871</th>\n",
       "      <th>270872</th>\n",
       "      <th>270879</th>\n",
       "      <th>270885</th>\n",
       "      <th>270887</th>\n",
       "      <th>270893</th>\n",
       "      <th>270894</th>\n",
       "      <th>270896</th>\n",
       "    </tr>\n",
       "    <tr>\n",
       "      <th>original_title</th>\n",
       "      <th></th>\n",
       "      <th></th>\n",
       "      <th></th>\n",
       "      <th></th>\n",
       "      <th></th>\n",
       "      <th></th>\n",
       "      <th></th>\n",
       "      <th></th>\n",
       "      <th></th>\n",
       "      <th></th>\n",
       "      <th></th>\n",
       "      <th></th>\n",
       "      <th></th>\n",
       "      <th></th>\n",
       "      <th></th>\n",
       "      <th></th>\n",
       "      <th></th>\n",
       "      <th></th>\n",
       "      <th></th>\n",
       "      <th></th>\n",
       "      <th></th>\n",
       "    </tr>\n",
       "  </thead>\n",
       "  <tbody>\n",
       "    <tr>\n",
       "      <th>(500) Days of Summer</th>\n",
       "      <td>0.0</td>\n",
       "      <td>0.0</td>\n",
       "      <td>0.0</td>\n",
       "      <td>2.0</td>\n",
       "      <td>0.0</td>\n",
       "      <td>5.0</td>\n",
       "      <td>0.0</td>\n",
       "      <td>0.0</td>\n",
       "      <td>0.0</td>\n",
       "      <td>0.0</td>\n",
       "      <td>...</td>\n",
       "      <td>0.0</td>\n",
       "      <td>0.0</td>\n",
       "      <td>4.0</td>\n",
       "      <td>0.0</td>\n",
       "      <td>0.0</td>\n",
       "      <td>0.0</td>\n",
       "      <td>0.0</td>\n",
       "      <td>0.0</td>\n",
       "      <td>0.0</td>\n",
       "      <td>0.0</td>\n",
       "    </tr>\n",
       "    <tr>\n",
       "      <th>*batteries not included</th>\n",
       "      <td>0.0</td>\n",
       "      <td>0.0</td>\n",
       "      <td>0.0</td>\n",
       "      <td>3.0</td>\n",
       "      <td>0.0</td>\n",
       "      <td>0.0</td>\n",
       "      <td>0.0</td>\n",
       "      <td>0.0</td>\n",
       "      <td>0.0</td>\n",
       "      <td>0.0</td>\n",
       "      <td>...</td>\n",
       "      <td>0.0</td>\n",
       "      <td>0.0</td>\n",
       "      <td>0.0</td>\n",
       "      <td>0.0</td>\n",
       "      <td>0.0</td>\n",
       "      <td>0.0</td>\n",
       "      <td>0.0</td>\n",
       "      <td>0.0</td>\n",
       "      <td>0.0</td>\n",
       "      <td>0.0</td>\n",
       "    </tr>\n",
       "    <tr>\n",
       "      <th>...And Justice for All</th>\n",
       "      <td>0.0</td>\n",
       "      <td>0.0</td>\n",
       "      <td>0.0</td>\n",
       "      <td>0.0</td>\n",
       "      <td>0.0</td>\n",
       "      <td>0.0</td>\n",
       "      <td>0.0</td>\n",
       "      <td>0.0</td>\n",
       "      <td>0.0</td>\n",
       "      <td>0.0</td>\n",
       "      <td>...</td>\n",
       "      <td>0.0</td>\n",
       "      <td>0.0</td>\n",
       "      <td>0.0</td>\n",
       "      <td>0.0</td>\n",
       "      <td>0.0</td>\n",
       "      <td>0.0</td>\n",
       "      <td>0.0</td>\n",
       "      <td>0.0</td>\n",
       "      <td>0.0</td>\n",
       "      <td>0.0</td>\n",
       "    </tr>\n",
       "    <tr>\n",
       "      <th>10 Cloverfield Lane</th>\n",
       "      <td>0.0</td>\n",
       "      <td>0.0</td>\n",
       "      <td>0.0</td>\n",
       "      <td>0.0</td>\n",
       "      <td>0.0</td>\n",
       "      <td>0.0</td>\n",
       "      <td>0.0</td>\n",
       "      <td>0.0</td>\n",
       "      <td>0.0</td>\n",
       "      <td>0.0</td>\n",
       "      <td>...</td>\n",
       "      <td>0.0</td>\n",
       "      <td>0.0</td>\n",
       "      <td>0.0</td>\n",
       "      <td>0.0</td>\n",
       "      <td>0.0</td>\n",
       "      <td>0.0</td>\n",
       "      <td>5.0</td>\n",
       "      <td>0.0</td>\n",
       "      <td>0.0</td>\n",
       "      <td>0.0</td>\n",
       "    </tr>\n",
       "    <tr>\n",
       "      <th>10 Things I Hate About You</th>\n",
       "      <td>0.0</td>\n",
       "      <td>0.0</td>\n",
       "      <td>4.0</td>\n",
       "      <td>0.0</td>\n",
       "      <td>0.0</td>\n",
       "      <td>0.0</td>\n",
       "      <td>3.0</td>\n",
       "      <td>0.0</td>\n",
       "      <td>0.0</td>\n",
       "      <td>0.0</td>\n",
       "      <td>...</td>\n",
       "      <td>0.0</td>\n",
       "      <td>0.0</td>\n",
       "      <td>0.0</td>\n",
       "      <td>0.0</td>\n",
       "      <td>0.0</td>\n",
       "      <td>0.0</td>\n",
       "      <td>0.0</td>\n",
       "      <td>0.0</td>\n",
       "      <td>0.0</td>\n",
       "      <td>0.0</td>\n",
       "    </tr>\n",
       "  </tbody>\n",
       "</table>\n",
       "<p>5 rows × 60539 columns</p>\n",
       "</div>"
      ],
      "text/plain": [
       "userId                      8       11      12      15      16      20      \\\n",
       "original_title                                                               \n",
       "(500) Days of Summer           0.0     0.0     0.0     2.0     0.0     5.0   \n",
       "*batteries not included        0.0     0.0     0.0     3.0     0.0     0.0   \n",
       "...And Justice for All         0.0     0.0     0.0     0.0     0.0     0.0   \n",
       "10 Cloverfield Lane            0.0     0.0     0.0     0.0     0.0     0.0   \n",
       "10 Things I Hate About You     0.0     0.0     4.0     0.0     0.0     0.0   \n",
       "\n",
       "userId                      24      30      34      37      ...  270859  \\\n",
       "original_title                                              ...           \n",
       "(500) Days of Summer           0.0     0.0     0.0     0.0  ...     0.0   \n",
       "*batteries not included        0.0     0.0     0.0     0.0  ...     0.0   \n",
       "...And Justice for All         0.0     0.0     0.0     0.0  ...     0.0   \n",
       "10 Cloverfield Lane            0.0     0.0     0.0     0.0  ...     0.0   \n",
       "10 Things I Hate About You     3.0     0.0     0.0     0.0  ...     0.0   \n",
       "\n",
       "userId                      270869  270871  270872  270879  270885  270887  \\\n",
       "original_title                                                               \n",
       "(500) Days of Summer           0.0     4.0     0.0     0.0     0.0     0.0   \n",
       "*batteries not included        0.0     0.0     0.0     0.0     0.0     0.0   \n",
       "...And Justice for All         0.0     0.0     0.0     0.0     0.0     0.0   \n",
       "10 Cloverfield Lane            0.0     0.0     0.0     0.0     0.0     5.0   \n",
       "10 Things I Hate About You     0.0     0.0     0.0     0.0     0.0     0.0   \n",
       "\n",
       "userId                      270893  270894  270896  \n",
       "original_title                                      \n",
       "(500) Days of Summer           0.0     0.0     0.0  \n",
       "*batteries not included        0.0     0.0     0.0  \n",
       "...And Justice for All         0.0     0.0     0.0  \n",
       "10 Cloverfield Lane            0.0     0.0     0.0  \n",
       "10 Things I Hate About You     0.0     0.0     0.0  \n",
       "\n",
       "[5 rows x 60539 columns]"
      ]
     },
     "execution_count": 32,
     "metadata": {},
     "output_type": "execute_result"
    }
   ],
   "source": [
    "# Substitui valores ausentes por 0\n",
    "\n",
    "filmes_pivot = filmes_pivot.apply(lambda row: row.fillna(0), axis=1)\n",
    "filmes_pivot.head()"
   ]
  },
  {
   "cell_type": "markdown",
   "id": "095d8472",
   "metadata": {
    "heading_collapsed": true
   },
   "source": [
    "##### Vamos utilizar o método KNN\n",
    "Através dele, queremos analisar os vizinhos mais próximos buscando por similaridade. Foi testado utilizando distância euclidiana e cosseno, onde a métrica de similaridade cosseno funcionou melhor."
   ]
  },
  {
   "cell_type": "code",
   "execution_count": 33,
   "id": "2774539a",
   "metadata": {
    "hidden": true
   },
   "outputs": [
    {
     "data": {
      "text/html": [
       "<style>#sk-container-id-1 {color: black;}#sk-container-id-1 pre{padding: 0;}#sk-container-id-1 div.sk-toggleable {background-color: white;}#sk-container-id-1 label.sk-toggleable__label {cursor: pointer;display: block;width: 100%;margin-bottom: 0;padding: 0.3em;box-sizing: border-box;text-align: center;}#sk-container-id-1 label.sk-toggleable__label-arrow:before {content: \"▸\";float: left;margin-right: 0.25em;color: #696969;}#sk-container-id-1 label.sk-toggleable__label-arrow:hover:before {color: black;}#sk-container-id-1 div.sk-estimator:hover label.sk-toggleable__label-arrow:before {color: black;}#sk-container-id-1 div.sk-toggleable__content {max-height: 0;max-width: 0;overflow: hidden;text-align: left;background-color: #f0f8ff;}#sk-container-id-1 div.sk-toggleable__content pre {margin: 0.2em;color: black;border-radius: 0.25em;background-color: #f0f8ff;}#sk-container-id-1 input.sk-toggleable__control:checked~div.sk-toggleable__content {max-height: 200px;max-width: 100%;overflow: auto;}#sk-container-id-1 input.sk-toggleable__control:checked~label.sk-toggleable__label-arrow:before {content: \"▾\";}#sk-container-id-1 div.sk-estimator input.sk-toggleable__control:checked~label.sk-toggleable__label {background-color: #d4ebff;}#sk-container-id-1 div.sk-label input.sk-toggleable__control:checked~label.sk-toggleable__label {background-color: #d4ebff;}#sk-container-id-1 input.sk-hidden--visually {border: 0;clip: rect(1px 1px 1px 1px);clip: rect(1px, 1px, 1px, 1px);height: 1px;margin: -1px;overflow: hidden;padding: 0;position: absolute;width: 1px;}#sk-container-id-1 div.sk-estimator {font-family: monospace;background-color: #f0f8ff;border: 1px dotted black;border-radius: 0.25em;box-sizing: border-box;margin-bottom: 0.5em;}#sk-container-id-1 div.sk-estimator:hover {background-color: #d4ebff;}#sk-container-id-1 div.sk-parallel-item::after {content: \"\";width: 100%;border-bottom: 1px solid gray;flex-grow: 1;}#sk-container-id-1 div.sk-label:hover label.sk-toggleable__label {background-color: #d4ebff;}#sk-container-id-1 div.sk-serial::before {content: \"\";position: absolute;border-left: 1px solid gray;box-sizing: border-box;top: 0;bottom: 0;left: 50%;z-index: 0;}#sk-container-id-1 div.sk-serial {display: flex;flex-direction: column;align-items: center;background-color: white;padding-right: 0.2em;padding-left: 0.2em;position: relative;}#sk-container-id-1 div.sk-item {position: relative;z-index: 1;}#sk-container-id-1 div.sk-parallel {display: flex;align-items: stretch;justify-content: center;background-color: white;position: relative;}#sk-container-id-1 div.sk-item::before, #sk-container-id-1 div.sk-parallel-item::before {content: \"\";position: absolute;border-left: 1px solid gray;box-sizing: border-box;top: 0;bottom: 0;left: 50%;z-index: -1;}#sk-container-id-1 div.sk-parallel-item {display: flex;flex-direction: column;z-index: 1;position: relative;background-color: white;}#sk-container-id-1 div.sk-parallel-item:first-child::after {align-self: flex-end;width: 50%;}#sk-container-id-1 div.sk-parallel-item:last-child::after {align-self: flex-start;width: 50%;}#sk-container-id-1 div.sk-parallel-item:only-child::after {width: 0;}#sk-container-id-1 div.sk-dashed-wrapped {border: 1px dashed gray;margin: 0 0.4em 0.5em 0.4em;box-sizing: border-box;padding-bottom: 0.4em;background-color: white;}#sk-container-id-1 div.sk-label label {font-family: monospace;font-weight: bold;display: inline-block;line-height: 1.2em;}#sk-container-id-1 div.sk-label-container {text-align: center;}#sk-container-id-1 div.sk-container {/* jupyter's `normalize.less` sets `[hidden] { display: none; }` but bootstrap.min.css set `[hidden] { display: none !important; }` so we also need the `!important` here to be able to override the default hidden behavior on the sphinx rendered scikit-learn.org. See: https://github.com/scikit-learn/scikit-learn/issues/21755 */display: inline-block !important;position: relative;}#sk-container-id-1 div.sk-text-repr-fallback {display: none;}</style><div id=\"sk-container-id-1\" class=\"sk-top-container\"><div class=\"sk-text-repr-fallback\"><pre>NearestNeighbors(algorithm=&#x27;brute&#x27;, metric=&#x27;cosine&#x27;, n_jobs=2, n_neighbors=20)</pre><b>In a Jupyter environment, please rerun this cell to show the HTML representation or trust the notebook. <br />On GitHub, the HTML representation is unable to render, please try loading this page with nbviewer.org.</b></div><div class=\"sk-container\" hidden><div class=\"sk-item\"><div class=\"sk-estimator sk-toggleable\"><input class=\"sk-toggleable__control sk-hidden--visually\" id=\"sk-estimator-id-1\" type=\"checkbox\" checked><label for=\"sk-estimator-id-1\" class=\"sk-toggleable__label sk-toggleable__label-arrow\">NearestNeighbors</label><div class=\"sk-toggleable__content\"><pre>NearestNeighbors(algorithm=&#x27;brute&#x27;, metric=&#x27;cosine&#x27;, n_jobs=2, n_neighbors=20)</pre></div></div></div></div></div>"
      ],
      "text/plain": [
       "NearestNeighbors(algorithm='brute', metric='cosine', n_jobs=2, n_neighbors=20)"
      ]
     },
     "execution_count": 33,
     "metadata": {},
     "output_type": "execute_result"
    }
   ],
   "source": [
    "# Criando e treinando o modelo preditivo KNN\n",
    "\n",
    "modelo = NearestNeighbors(metric='cosine', algorithm='brute', n_neighbors=20, n_jobs=2)\n",
    "modelo.fit(filmes_pivot)"
   ]
  },
  {
   "cell_type": "markdown",
   "id": "5d6409d6",
   "metadata": {
    "hidden": true
   },
   "source": [
    "Feito o modelo vamos afinar a recomendação ao criar a função 'recomendacao'"
   ]
  },
  {
   "cell_type": "markdown",
   "id": "6c9ceee7",
   "metadata": {
    "heading_collapsed": true
   },
   "source": [
    "##### Criando a função 'recomendacao'\n",
    "Vamos aprimorar a recomendação ao utilizar dados de sinopse e gênero dos filmes, para aumentar a similaridade entre os filmes utilizado como referência e os sugeridos.\n",
    "\n",
    "Utilizamos a biblioteca SentenceTransformer, que carrega modelos pré-treinados de sentenças. Com essas sentenças, irá gerar vetores que usaremos como referencia ao calcular a similaridade.\n",
    "\n",
    "Utilizamos o dataset df_filmes para criar os vetores a partir das frases da sinopse e para combinar as tags de \"keywords\", criando uma string."
   ]
  },
  {
   "cell_type": "code",
   "execution_count": 34,
   "id": "fe05c5fd",
   "metadata": {
    "hidden": true
   },
   "outputs": [],
   "source": [
    "# Função que recomenda filmes conforme modelo treinado e se atender as características de overview e keywords\n",
    "\n",
    "def recomendacao(nome_filme, modelo, sparse):\n",
    "  lista_recomendacao = [nome_filme] #Lista com o filme de referencia\n",
    "  distancia_geral = [1] #Lista de distancia\n",
    "  try:\n",
    "    \n",
    "    #Busca filmes similares ao filme de referencia com knn\n",
    "    \n",
    "    dist, idx = modelo.kneighbors(sparse.loc[nome_filme].values.reshape(1,-1),n_neighbors=13)\n",
    "    \n",
    "    #Preenche com os filmes recomendados\n",
    "    \n",
    "    for i in range(1, len(dist.flatten())):\n",
    "      nome_filme = sparse.index[idx.flatten()[i]]\n",
    "      lista_recomendacao.append(nome_filme)\n",
    "      distancia = dist.flatten()[i]\n",
    "      distancia_geral.append(distancia)\n",
    "  except:\n",
    "    \n",
    "    #Em caso de erro irá imprimir\n",
    "    \n",
    "    print(f'O filme {nome_filme} não está em nosso banco de dados.')\n",
    "\n",
    "  overview_vet = []\n",
    "  overview_similaridade = [] #Lista com infos de overview\n",
    "  for filme in lista_recomendacao:\n",
    "    overview = df_filmes[df_filmes['original_title'] == filme]['overview'].values[0]\n",
    "    vet = model.encode(overview) #Utilizando \"model\" como parametro para codificar overview\n",
    "    overview_vet.append(vet)\n",
    "    \n",
    "    #Calcula similaridade de overview\n",
    "    \n",
    "    cosine_scores = util.cos_sim(overview_vet[0], vet)\n",
    "    overview_similaridade.append(cosine_scores.item())\n",
    "\n",
    "  keyword_vet = []\n",
    "  keyword_similaridade = [] #Lista com infos de palavras-chaves\n",
    "  for filme in lista_recomendacao:\n",
    "    \n",
    "    #Extraindo palavras-chaves\n",
    "    \n",
    "    keywords = list(df_filmes[df_filmes['original_title'] == filme]['keywords'].values[0].split(\",\"))\n",
    "    tags = []\n",
    "    for tag in keywords:\n",
    "        \n",
    "    # Processa palavras-chaves para encontrar tags \n",
    "    \n",
    "      if tag.startswith(\" 'name\"):\n",
    "        tags.append(tag[10:-2])\n",
    "    tags[-1] = tags[-1][:-1]\n",
    "\n",
    "    tags_comb = \" \".join(tags)\n",
    "    vet = model.encode(tags_comb) #Utilizando \"model\" como parametro para codificar keywords\n",
    "    keyword_vet.append(vet)\n",
    "    \n",
    "    #Calcula similaridade das palavras-chaves\n",
    "    \n",
    "    cosine_scores = util.cos_sim(keyword_vet[0], vet)\n",
    "    keyword_similaridade.append(cosine_scores.item())\n",
    "\n",
    "\n",
    "  print(f'Considerando sua seleção de {lista_recomendacao[0]}, é recomendado que você assista: \\n')\n",
    "  counter = 1\n",
    "  for i in range(1 , len(lista_recomendacao)):\n",
    "    if overview_similaridade[i] > 0.2 and keyword_similaridade[i] > 0.28:\n",
    "      print(f'{counter}- {lista_recomendacao[i]}, a distância (similaridade) é de {distancia_geral[i]:.3f}')\n",
    "      counter += 1"
   ]
  },
  {
   "cell_type": "markdown",
   "id": "7cc84dae",
   "metadata": {
    "heading_collapsed": true
   },
   "source": [
    "##### Resultados\n",
    "Não recomendamos filmes que tenham similaridade inferior a 0.2 em relação a overview e a 0.28 com as tags criadas através das palavras chaves.\n",
    "\n",
    "Gostaríamos de ressaltar que a similaridade de cosseno vai de 0 a 1.0. Logo, consideramos pontuações acima de 0.4 bem altas."
   ]
  },
  {
   "cell_type": "code",
   "execution_count": 35,
   "id": "0376aee7",
   "metadata": {
    "hidden": true
   },
   "outputs": [
    {
     "name": "stdout",
     "output_type": "stream",
     "text": [
      "Considerando sua seleção de The Matrix Reloaded, é recomendado que você assista: \n",
      "\n",
      "1- The Matrix Revolutions, a distância (similaridade) é de 0.223\n",
      "2- The Matrix, a distância (similaridade) é de 0.361\n",
      "3- Minority Report, a distância (similaridade) é de 0.361\n",
      "4- Star Wars: Episode II - Attack of the Clones, a distância (similaridade) é de 0.379\n"
     ]
    }
   ],
   "source": [
    "recomendacao('The Matrix Reloaded', modelo, filmes_pivot)"
   ]
  },
  {
   "cell_type": "code",
   "execution_count": 36,
   "id": "74680cf9",
   "metadata": {
    "hidden": true
   },
   "outputs": [
    {
     "name": "stdout",
     "output_type": "stream",
     "text": [
      "Considerando sua seleção de Batman Begins, é recomendado que você assista: \n",
      "\n",
      "1- The Dark Knight, a distância (similaridade) é de 0.261\n",
      "2- V for Vendetta, a distância (similaridade) é de 0.327\n",
      "3- Iron Man, a distância (similaridade) é de 0.329\n",
      "4- The Incredibles, a distância (similaridade) é de 0.336\n",
      "5- Pirates of the Caribbean: The Curse of the Black Pearl, a distância (similaridade) é de 0.338\n",
      "6- Sin City, a distância (similaridade) é de 0.345\n",
      "7- Kill Bill: Vol. 1, a distância (similaridade) é de 0.355\n"
     ]
    }
   ],
   "source": [
    "recomendacao('Batman Begins', modelo, filmes_pivot)"
   ]
  },
  {
   "cell_type": "code",
   "execution_count": 37,
   "id": "5236052a",
   "metadata": {
    "hidden": true
   },
   "outputs": [
    {
     "name": "stdout",
     "output_type": "stream",
     "text": [
      "Considerando sua seleção de 2 Fast 2 Furious, é recomendado que você assista: \n",
      "\n",
      "1- The Fast and the Furious, a distância (similaridade) é de 0.480\n",
      "2- The Fast and the Furious: Tokyo Drift, a distância (similaridade) é de 0.502\n",
      "3- Fast & Furious, a distância (similaridade) é de 0.572\n",
      "4- The Transporter, a distância (similaridade) é de 0.619\n",
      "5- Fast Five, a distância (similaridade) é de 0.653\n"
     ]
    }
   ],
   "source": [
    "recomendacao('2 Fast 2 Furious', modelo, filmes_pivot)"
   ]
  },
  {
   "cell_type": "code",
   "execution_count": 38,
   "id": "8c0eb9bf",
   "metadata": {
    "hidden": true
   },
   "outputs": [
    {
     "name": "stdout",
     "output_type": "stream",
     "text": [
      "Considerando sua seleção de 127 Hours, é recomendado que você assista: \n",
      "\n",
      "1- Inception, a distância (similaridade) é de 0.555\n",
      "2- Drive, a distância (similaridade) é de 0.585\n",
      "3- Into the Wild, a distância (similaridade) é de 0.590\n"
     ]
    }
   ],
   "source": [
    "recomendacao('127 Hours', modelo, filmes_pivot)"
   ]
  },
  {
   "cell_type": "code",
   "execution_count": 39,
   "id": "fe2b17af",
   "metadata": {
    "hidden": true
   },
   "outputs": [
    {
     "name": "stdout",
     "output_type": "stream",
     "text": [
      "Considerando sua seleção de Toy Story, é recomendado que você assista: \n",
      "\n",
      "1- Toy Story 2, a distância (similaridade) é de 0.309\n",
      "2- Aladdin, a distância (similaridade) é de 0.330\n"
     ]
    }
   ],
   "source": [
    "recomendacao('Toy Story', modelo, filmes_pivot)"
   ]
  },
  {
   "cell_type": "code",
   "execution_count": 40,
   "id": "98d2e913",
   "metadata": {
    "hidden": true
   },
   "outputs": [
    {
     "name": "stdout",
     "output_type": "stream",
     "text": [
      "Considerando sua seleção de 1408, é recomendado que você assista: \n",
      "\n",
      "1- The Mist, a distância (similaridade) é de 0.576\n",
      "2- 28 Weeks Later, a distância (similaridade) é de 0.612\n",
      "3- 30 Days of Night, a distância (similaridade) é de 0.631\n",
      "4- Drag Me to Hell, a distância (similaridade) é de 0.633\n",
      "5- Paranormal Activity, a distância (similaridade) é de 0.645\n",
      "6- The Number 23, a distância (similaridade) é de 0.656\n",
      "7- Saw II, a distância (similaridade) é de 0.658\n"
     ]
    }
   ],
   "source": [
    "recomendacao('1408', modelo, filmes_pivot)"
   ]
  }
 ],
 "metadata": {
  "kernelspec": {
   "display_name": "Python 3 (ipykernel)",
   "language": "python",
   "name": "python3"
  },
  "language_info": {
   "codemirror_mode": {
    "name": "ipython",
    "version": 3
   },
   "file_extension": ".py",
   "mimetype": "text/x-python",
   "name": "python",
   "nbconvert_exporter": "python",
   "pygments_lexer": "ipython3",
   "version": "3.11.5"
  },
  "varInspector": {
   "cols": {
    "lenName": 16,
    "lenType": 16,
    "lenVar": 40
   },
   "kernels_config": {
    "python": {
     "delete_cmd_postfix": "",
     "delete_cmd_prefix": "del ",
     "library": "var_list.py",
     "varRefreshCmd": "print(var_dic_list())"
    },
    "r": {
     "delete_cmd_postfix": ") ",
     "delete_cmd_prefix": "rm(",
     "library": "var_list.r",
     "varRefreshCmd": "cat(var_dic_list()) "
    }
   },
   "types_to_exclude": [
    "module",
    "function",
    "builtin_function_or_method",
    "instance",
    "_Feature"
   ],
   "window_display": false
  }
 },
 "nbformat": 4,
 "nbformat_minor": 5
}
